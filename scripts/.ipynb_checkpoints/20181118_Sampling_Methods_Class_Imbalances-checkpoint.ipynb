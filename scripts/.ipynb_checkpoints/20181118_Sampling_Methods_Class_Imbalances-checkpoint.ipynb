{
 "cells": [
  {
   "cell_type": "markdown",
   "metadata": {},
   "source": [
    "### Sampling Methods for Class Imbalance Issues - Predicting Excellent Wines \n",
    "\n",
    "#### Project for the Statistical Modelling Course - Felix Adam\n",
    "\n",
    "When used properly, statistical classification can help to tackle all sorts of problems: identifiyng fraud, rare diseases or excellent products. However, problems can arise, when the class of interest is severily underrepresented in the data. It is easy to imagine, that the number of observations of the class of interest doesn't exceed 5 percent of all observations. Linear classifiers such as logistic regression tend to perform badly in this setting, due to the fact that they 'learn' the features of the majority class. Predicting that an observation belongs to the majority class is a simple task in this case, while the minority class won't be predicted at all. \n",
    "\n",
    "- Example: Rare disease found in 10 / 1000 people\n",
    "- Classifier just assigns healthy to every person\n",
    "- Will have accuracy of 99% -> Great?\n",
    "\n",
    "An example could be that doctors use an algorithm to classify patients as healthy or not healthy, with respect to a rare disease. The algorithm is trained on a large sample, with potentially thousands of observations. However, if the sample only contains a small amount of 'interesting' cases, the algorithm will learn the healthy cases. When used in action, this will lead to devistating results, given that all sick patients are potentially classified as healthy. \n",
    "\n",
    "Ironically, predicting rare events is one of the most important and interesting tasks in classification. Luckily, there are some techniques for dealing with class imbalances. This notebook is centered around the question of how to deal with such imbalances, following a real data set. \n",
    "I will first discuss the issues that arise when not accounting for class imbalances. Then I'll present undersampling of the majority class as simple remedy. I will later extend this method to synthetic oversampling using the Synthetic Minority Oversampling Technique (SMOTE). In the last section I'll discuss further applications, benefits and shortfalls of the presented techniques and other options available.\n",
    "\n",
    "1. Demonstrate the issue using the wine example\n",
    "\n",
    "    - Logistic regression seemingly performs well when checking accuracy\n",
    "    - Horrible performance in total, only able to classify \"uninteresting classes\"\n",
    "    - Little discussion of ROC, AUC, Precision and recall\n",
    "\n",
    "2. Simple resampling: Undersampling of the majority class\n",
    "\n",
    "    - Discuss method\n",
    "    - Methodology, idea behind it -> Theory\n",
    "    - Show performance compared to base case\n",
    "\n",
    "3. Extension: SMOTE\n",
    "\n",
    "    - Theory, methodology\n",
    "    - Discuss\n",
    "    - Implement and show performance\n",
    "\n",
    "4. Discussion: Which method should be used?\n",
    "\n",
    "    - What about just moving the descision boundary? (Also mentioned in the SMOTE paper)\n",
    "    - Benefits/ Shortfalls\n",
    "    \n",
    "\n",
    "#### Notes\n",
    "\n",
    "- Issue of PREDICTION , can this be extended to inference?\n",
    "        - which probabilities does the classifier learn?\n",
    "- Predictive Modelling!\n",
    "- No information rate (see book, page 255)\n",
    "- CV done false: Check your CV set up\n",
    "- When are you using sampling techniques? Before or after CV?\n",
    "- CV at all?"
   ]
  },
  {
   "cell_type": "code",
   "execution_count": 2,
   "metadata": {},
   "outputs": [],
   "source": [
    "%matplotlib inline\n",
    "\n",
    "# Importing libraries\n",
    "import pandas as pd\n",
    "import numpy as np\n",
    "import seaborn as sns\n",
    "import matplotlib.pyplot as plt\n",
    "from sklearn.linear_model import LogisticRegression, LogisticRegressionCV\n",
    "from sklearn.model_selection import cross_val_score, train_test_split\n",
    "from sklearn import metrics"
   ]
  },
  {
   "cell_type": "markdown",
   "metadata": {},
   "source": [
    "#### The Wine-Quality Data Set\n",
    "To make this issue more tangible, I will use the wine-quality dataset presented by Cortez et. al (2009). The dataset contains information on red and white wines from the Minho region in Portugal. I will focus on predicting the quality of white wine, since red and white wine taste differently. While the analysis of wines doesn't seem as honorable as predicting rear diseas, the methods discussed extend to other data sets as well. (CHECK)"
   ]
  },
  {
   "cell_type": "markdown",
   "metadata": {},
   "source": [
    "##### Data Loading "
   ]
  },
  {
   "cell_type": "code",
   "execution_count": 3,
   "metadata": {},
   "outputs": [],
   "source": [
    "# Filepath\n",
    "filepath = \"../data/\"\n",
    "\n",
    "# Loading data\n",
    "whitewine = pd.read_csv(filepath+ 'winequality-white.csv', sep= \";\")"
   ]
  },
  {
   "cell_type": "markdown",
   "metadata": {
    "variables": {
     "whitewine.shape[0]": "4898"
    }
   },
   "source": [
    "The dataset includes {{whitewine.shape[0]}} observations, each with {{whitewine.shape[0]}} features, where one feature is the quality of the wine (see table below). The wines are assesed by three professional wine tasters who give each wine a grade from 0 (bad) to 10 (excellent). The final grade is calculated as the median of the three values (Cortez et al. 2009). While wine tasting has a bad reputation as being unscientific (Hodgson, 2008), I will assume that the scores actually represent a valid rating. At a minimum, the goal is to predict the taste of these three particular wine tasters."
   ]
  },
  {
   "cell_type": "code",
   "execution_count": 4,
   "metadata": {},
   "outputs": [
    {
     "data": {
      "text/html": [
       "<div>\n",
       "<style scoped>\n",
       "    .dataframe tbody tr th:only-of-type {\n",
       "        vertical-align: middle;\n",
       "    }\n",
       "\n",
       "    .dataframe tbody tr th {\n",
       "        vertical-align: top;\n",
       "    }\n",
       "\n",
       "    .dataframe thead th {\n",
       "        text-align: right;\n",
       "    }\n",
       "</style>\n",
       "<table border=\"1\" class=\"dataframe\">\n",
       "  <thead>\n",
       "    <tr style=\"text-align: right;\">\n",
       "      <th></th>\n",
       "      <th>fixed acidity</th>\n",
       "      <th>volatile acidity</th>\n",
       "      <th>citric acid</th>\n",
       "      <th>residual sugar</th>\n",
       "      <th>chlorides</th>\n",
       "      <th>free sulfur dioxide</th>\n",
       "      <th>total sulfur dioxide</th>\n",
       "      <th>density</th>\n",
       "      <th>pH</th>\n",
       "      <th>sulphates</th>\n",
       "      <th>alcohol</th>\n",
       "      <th>quality</th>\n",
       "    </tr>\n",
       "  </thead>\n",
       "  <tbody>\n",
       "    <tr>\n",
       "      <th>3290</th>\n",
       "      <td>7.8</td>\n",
       "      <td>0.25</td>\n",
       "      <td>0.37</td>\n",
       "      <td>1.0</td>\n",
       "      <td>0.043</td>\n",
       "      <td>10.0</td>\n",
       "      <td>80.0</td>\n",
       "      <td>0.99128</td>\n",
       "      <td>3.08</td>\n",
       "      <td>0.38</td>\n",
       "      <td>11.4</td>\n",
       "      <td>5</td>\n",
       "    </tr>\n",
       "    <tr>\n",
       "      <th>1745</th>\n",
       "      <td>6.1</td>\n",
       "      <td>0.34</td>\n",
       "      <td>0.31</td>\n",
       "      <td>12.0</td>\n",
       "      <td>0.053</td>\n",
       "      <td>46.0</td>\n",
       "      <td>238.0</td>\n",
       "      <td>0.99770</td>\n",
       "      <td>3.16</td>\n",
       "      <td>0.48</td>\n",
       "      <td>8.6</td>\n",
       "      <td>5</td>\n",
       "    </tr>\n",
       "    <tr>\n",
       "      <th>61</th>\n",
       "      <td>6.0</td>\n",
       "      <td>0.19</td>\n",
       "      <td>0.26</td>\n",
       "      <td>12.4</td>\n",
       "      <td>0.048</td>\n",
       "      <td>50.0</td>\n",
       "      <td>147.0</td>\n",
       "      <td>0.99720</td>\n",
       "      <td>3.30</td>\n",
       "      <td>0.36</td>\n",
       "      <td>8.9</td>\n",
       "      <td>6</td>\n",
       "    </tr>\n",
       "    <tr>\n",
       "      <th>4487</th>\n",
       "      <td>6.4</td>\n",
       "      <td>0.13</td>\n",
       "      <td>0.28</td>\n",
       "      <td>0.9</td>\n",
       "      <td>0.045</td>\n",
       "      <td>32.0</td>\n",
       "      <td>87.0</td>\n",
       "      <td>0.99175</td>\n",
       "      <td>3.47</td>\n",
       "      <td>0.52</td>\n",
       "      <td>11.2</td>\n",
       "      <td>6</td>\n",
       "    </tr>\n",
       "    <tr>\n",
       "      <th>2595</th>\n",
       "      <td>8.2</td>\n",
       "      <td>0.52</td>\n",
       "      <td>0.34</td>\n",
       "      <td>1.2</td>\n",
       "      <td>0.042</td>\n",
       "      <td>18.0</td>\n",
       "      <td>167.0</td>\n",
       "      <td>0.99366</td>\n",
       "      <td>3.24</td>\n",
       "      <td>0.39</td>\n",
       "      <td>10.6</td>\n",
       "      <td>5</td>\n",
       "    </tr>\n",
       "  </tbody>\n",
       "</table>\n",
       "</div>"
      ],
      "text/plain": [
       "      fixed acidity  volatile acidity  citric acid  residual sugar  chlorides  \\\n",
       "3290            7.8              0.25         0.37             1.0      0.043   \n",
       "1745            6.1              0.34         0.31            12.0      0.053   \n",
       "61              6.0              0.19         0.26            12.4      0.048   \n",
       "4487            6.4              0.13         0.28             0.9      0.045   \n",
       "2595            8.2              0.52         0.34             1.2      0.042   \n",
       "\n",
       "      free sulfur dioxide  total sulfur dioxide  density    pH  sulphates  \\\n",
       "3290                 10.0                  80.0  0.99128  3.08       0.38   \n",
       "1745                 46.0                 238.0  0.99770  3.16       0.48   \n",
       "61                   50.0                 147.0  0.99720  3.30       0.36   \n",
       "4487                 32.0                  87.0  0.99175  3.47       0.52   \n",
       "2595                 18.0                 167.0  0.99366  3.24       0.39   \n",
       "\n",
       "      alcohol  quality  \n",
       "3290     11.4        5  \n",
       "1745      8.6        5  \n",
       "61        8.9        6  \n",
       "4487     11.2        6  \n",
       "2595     10.6        5  "
      ]
     },
     "execution_count": 4,
     "metadata": {},
     "output_type": "execute_result"
    }
   ],
   "source": [
    "whitewine.sample(5)"
   ]
  },
  {
   "cell_type": "markdown",
   "metadata": {},
   "source": [
    "#### Binary Predictions\n",
    "My goal is to predict the quality of a wine using its chemical features. To simplify the estimation and emphasize the issue of class imbalances, I will transform the problem to a 'One vs. Rest' setup (Bishop ,2006, p. 183f). Wines with a quality equal or above 8 will be assigned to have high quality and wines below 8 are classified as low quality."
   ]
  },
  {
   "cell_type": "code",
   "execution_count": 5,
   "metadata": {},
   "outputs": [
    {
     "data": {
      "image/png": "[encoded data removed]",
      "text/plain": [
       "<Figure size 576x432 with 1 Axes>"
      ]
     },
     "metadata": {},
     "output_type": "display_data"
    }
   ],
   "source": [
    "plt.rcParams['figure.figsize'] = (8,6)\n",
    "quality_plt = sns.countplot(x= 'quality', data=whitewine)\n",
    "quality_plt.set_xlabel('Quality')\n",
    "quality_plt.set_ylabel('Nr of Wines')\n",
    "quality_plt.set_title('Distribution of Wine Quality');"
   ]
  },
  {
   "cell_type": "markdown",
   "metadata": {},
   "source": [
    "As shown above, the quality of most wines lies between 5 and 7. Transforming the quality to binary values, one can see that high quality wines are severily underrepresented."
   ]
  },
  {
   "cell_type": "code",
   "execution_count": 6,
   "metadata": {},
   "outputs": [],
   "source": [
    "whitewine['quality_class'] = [1 if q >= 8 else 0 for q in whitewine.quality]\n",
    "\n",
    "# Calculating base rate\n",
    "base_rate = round(whitewine['quality_class'].value_counts()[1]/whitewine['quality_class'].value_counts()[0] ,4) "
   ]
  },
  {
   "cell_type": "markdown",
   "metadata": {
    "variables": {
     " (base_rate * 100)": "3.82",
     "round((1-base_rate) * 100,2)": "96.18",
     "whitewine['quality_class'].value_counts()[0]": "4718",
     "whitewine['quality_class'].value_counts()[1]": "180"
    }
   },
   "source": [
    "After the transformation there are {{whitewine['quality_class'].value_counts()[0]}} observations of low quality wines and {{whitewine['quality_class'].value_counts()[1]}} obersvations of high quality wines. The base rate in this case is \n",
    "{{ (base_rate \\* 100)}} percent. It is important to notice, that one could achieve a prediction accuracy of {{round((1-base_rate) * 100,2)}} percent by guessing that all wines presented belong to the low quality class.\n",
    "\n",
    "#### Naive Prediction using Logistic Regression\n",
    "\n",
    "*Überarbeiten*\n",
    "\n",
    "The idea behind logistic regression can be motivated from an example. A winery has collected the grapes of the season and the winegrower has given her best to produce an excellent wine. Now the accountant of the winery comes into play and asks how he should price the wine, given it's quality. Preferrably, he would like to have an idea of how sure he can be that a wine is of particularly high quality, so that he doesn't end up with a mountain of overpriced, low quality wine. Logistic regression can be used in this case to obtain the probability of a wine belonging to the high quality group.\n",
    "\n",
    "Using logistic regression, the probability can be modeled as a logistic transformation of a linear combination of the features of the wine. Given the features $\\phi(x)$, the logg-odds $l$ can be modeled as $l  = ln(\\frac{p}{1-p}) = \\phi(X^T) \\beta$  where $\\beta$ is a vector of parameters to estimate. Then, a logistic transformation can be used to achieve $y \\in (0,1)$ \n",
    "\n",
    "$$\\mu(x,\\beta) = \\frac{1}{1+e^{-\\phi(x^T)\\beta}}$$\n",
    "\n",
    "The conditional mean $\\mu$ depends on the features $X$ and $\\beta$ and $y \\sim Bernoulli( \\mu(x,\\beta) ) $. \n",
    "\n",
    "In the following section I will model the quality of wine through logistic regression. While variable selection and feature engineering play a crucial role in predictive modelling, I will just use all available features for this task. I will try to identify the best predictive model using 10 fold cross validation. \n",
    "\n",
    "- I will make use of pythons sklearn library.\n",
    "-"
   ]
  },
  {
   "cell_type": "markdown",
   "metadata": {},
   "source": [
    "##### General Regression Set Up\n",
    "- Split data in training and testing data\n",
    "- Use 10 Fold CV to find best predictive model\n",
    "- Measure model performance\n",
    "- Stratifying is very important in this case! Otherwise training data could have no values at all\n",
    "        - See also Kohavi(1995) for this\n",
    "        - Ten fold stratified cross validation!\n",
    "\n",
    "\n",
    "- Logistic Regression CV in sklearn uses regularization, either l1 norm or l2 norm\n",
    "- Do i want to penalize? Maybe not\n",
    "- Parameter Cs is defined as $\\frac{1}{\\lambda}$ \n",
    "- Large values of C are then resulting in extremly low lambdas, cost function the same like model without regularization"
   ]
  },
  {
   "cell_type": "code",
   "execution_count": 39,
   "metadata": {},
   "outputs": [],
   "source": [
    "# Instantiate the model, very small penalty, intercept, 10-Fold Cv, no class weights (default)\n",
    "logistic_model = LogisticRegressionCV(Cs =[1e4], class_weight=None, cv = 10, )\n",
    "\n",
    "# Extract features and dependent variable\n",
    "y = whitewine['quality_class']\n",
    "x = whitewine[list(whitewine)[:-2]]\n",
    "\n",
    "# Split into testing and training data, stratified!\n",
    "x_train, x_test, y_train, y_test = train_test_split(x,y, test_size=0.25, random_state =0 )#, stratify = y)\n",
    "\n",
    "# Fit the model \n",
    "logistic_model.fit(x_train,y_train);"
   ]
  },
  {
   "cell_type": "code",
   "execution_count": 9,
   "metadata": {},
   "outputs": [],
   "source": [
    "# Make predictions on testing values\n",
    "y_pred = logistic_model.predict(x_test)\n",
    "\n",
    "# Accuracy\n",
    "accuracy = metrics.accuracy_score(y_test,y_pred)\n",
    "\n"
   ]
  },
  {
   "cell_type": "markdown",
   "metadata": {
    "variables": {
     "round( accuracy * 100,2)": "96.73"
    }
   },
   "source": [
    "- Discuss what accuracy is\n",
    "\n",
    "The accuracy score of {{round( accuracy \\* 100,2)}} percent looks great at first. After all, roughly 96 percent of the wines have been classified correctly. A look at the confusion matrix however, reveals the issue with relying on the accuracy score."
   ]
  },
  {
   "cell_type": "code",
   "execution_count": 10,
   "metadata": {},
   "outputs": [
    {
     "data": {
      "image/png": "[encoded data removed]",
      "text/plain": [
       "<Figure size 576x432 with 2 Axes>"
      ]
     },
     "metadata": {},
     "output_type": "display_data"
    }
   ],
   "source": [
    "plt.rcParams['figure.figsize'] = (8,6)\n",
    "\n",
    "# Get confusion matrix\n",
    "cnf_matrix = metrics.confusion_matrix(y_test,y_pred)\n",
    "\n",
    "# Plot as heatmap\n",
    "class_names=[0,1] # name  of classes\n",
    "fig, ax = plt.subplots() \n",
    "tick_marks = np.arange(len(class_names)) \n",
    "plt.xticks(tick_marks, class_names)\n",
    "plt.yticks(tick_marks, class_names)\n",
    "sns.heatmap(pd.DataFrame(cnf_matrix), cmap=\"YlGnBu\", annot=True,fmt='g')\n",
    "ax.xaxis.set_label_position(\"top\")\n",
    "plt.tight_layout()\n",
    "plt.title('Confusion matrix', y=1.1)\n",
    "plt.ylabel('Actual label')\n",
    "plt.xlabel('Predicted label');"
   ]
  },
  {
   "cell_type": "markdown",
   "metadata": {},
   "source": [
    "The confusion matrix reveals, that the classifier predicted only a single wine to be of high quality, and that was a wrong prediction. Within the testing set, there were 39 high quality wines, which were all predicted to be of low quality. \n",
    "- More infos here, precision and recall\n",
    "\n"
   ]
  },
  {
   "cell_type": "code",
   "execution_count": 11,
   "metadata": {},
   "outputs": [
    {
     "name": "stdout",
     "output_type": "stream",
     "text": [
      "Accuracy: 0.9673469387755103\n",
      "Precision: 0.0\n",
      "Recall: 0.0\n"
     ]
    }
   ],
   "source": [
    "print(\"Accuracy:\",metrics.accuracy_score(y_test, y_pred))\n",
    "print(\"Precision:\",metrics.precision_score(y_test, y_pred))\n",
    "print(\"Recall:\",metrics.recall_score(y_test, y_pred))\n"
   ]
  },
  {
   "cell_type": "markdown",
   "metadata": {},
   "source": [
    "ROC / AUC"
   ]
  },
  {
   "cell_type": "code",
   "execution_count": 72,
   "metadata": {},
   "outputs": [
    {
     "data": {
      "image/png": "[encoded data removed]",
      "text/plain": [
       "<Figure size 576x432 with 1 Axes>"
      ]
     },
     "metadata": {},
     "output_type": "display_data"
    }
   ],
   "source": [
    "y_pred_proba = logistic_model.predict_proba(x_test)[::,1]\n",
    "fpr, tpr, _ = metrics.roc_curve(y_test,  y_pred_proba)\n",
    "auc = metrics.roc_auc_score(y_test, y_pred_proba)\n",
    "fig, ax = plt.subplots() \n",
    "ax.plot(ax.get_xlim(), ax.get_ylim(), ls=\"--\", c=\".3\")\n",
    "plt.plot(fpr,tpr,label=\"data 1, auc=\"+str(auc))\n",
    "plt.legend(loc=4)\n",
    "plt.show()"
   ]
  },
  {
   "cell_type": "markdown",
   "metadata": {},
   "source": [
    "#### Simple Over / Undersampling using balancing"
   ]
  },
  {
   "cell_type": "code",
   "execution_count": 15,
   "metadata": {},
   "outputs": [
    {
     "data": {
      "text/plain": [
       "array([[816, 370],\n",
       "       [ 18,  21]])"
      ]
     },
     "execution_count": 15,
     "metadata": {},
     "output_type": "execute_result"
    }
   ],
   "source": [
    "# Instantiate the model, very small penalty, intercept, 10-Fold Cv, no class weights (default)\n",
    "logistic_model2 = LogisticRegressionCV(Cs =[1e4], class_weight='balanced', cv = 10)\n",
    "\n",
    "# Split into testing and training data, stratified!\n",
    "x_train, x_test, y_train, y_test = train_test_split(x,y, test_size=0.25, random_state =0 )#, stratify = y)\n",
    "\n",
    "# Fit the model \n",
    "logistic_model2.fit(x_train,y_train);\n",
    "\n",
    "# Make predictions on testing values\n",
    "y_pred = logistic_model2.predict(x_test)\n",
    "\n",
    "# Accuracy\n",
    "accuracy = metrics.accuracy_score(y_test,y_pred)\n",
    "\n",
    "metrics.confusion_matrix(y_test,y_pred)\n"
   ]
  },
  {
   "cell_type": "code",
   "execution_count": 16,
   "metadata": {},
   "outputs": [
    {
     "data": {
      "text/plain": [
       "0.683265306122449"
      ]
     },
     "execution_count": 16,
     "metadata": {},
     "output_type": "execute_result"
    }
   ],
   "source": [
    "accuracy"
   ]
  },
  {
   "cell_type": "code",
   "execution_count": 73,
   "metadata": {},
   "outputs": [
    {
     "data": {
      "image/png": "[encoded data removed]",
      "text/plain": [
       "<Figure size 576x432 with 1 Axes>"
      ]
     },
     "metadata": {},
     "output_type": "display_data"
    }
   ],
   "source": [
    "y_pred_proba = logistic_model2.predict_proba(x_test)[::,1]\n",
    "fpr, tpr, _ = metrics.roc_curve(y_test,  y_pred_proba)\n",
    "auc = metrics.roc_auc_score(y_test, y_pred_proba)\n",
    "fig, ax = plt.subplots() \n",
    "ax.plot(ax.get_xlim(), ax.get_ylim(), ls=\"--\", c=\".3\")\n",
    "plt.plot(fpr,tpr,label=\"data 1, auc=\"+str(auc))\n",
    "plt.legend(loc=4)\n",
    "plt.show()"
   ]
  },
  {
   "cell_type": "markdown",
   "metadata": {},
   "source": [
    "#### Random Oversampling"
   ]
  },
  {
   "cell_type": "code",
   "execution_count": 25,
   "metadata": {},
   "outputs": [
    {
     "name": "stdout",
     "output_type": "stream",
     "text": [
      "[(0, 4718), (1, 4718)]\n"
     ]
    },
    {
     "data": {
      "text/plain": [
       "0.6726530612244898"
      ]
     },
     "execution_count": 25,
     "metadata": {},
     "output_type": "execute_result"
    }
   ],
   "source": [
    "from imblearn import over_sampling \n",
    "ros = over_sampling.RandomOverSampler(random_state=0)\n",
    "X_resampled, y_resampled = ros.fit_resample(x, y)\n",
    "\n",
    "# Fit on oversampled data set\n",
    "logistic_model.fit(X_resampled,y_resampled)\n",
    "\n",
    "\n",
    "# Make predictions on testing values\n",
    "y_pred = logistic_model.predict(x_test)\n",
    "\n",
    "# Accuracy\n",
    "accuracy = metrics.accuracy_score(y_test,y_pred)\n",
    "\n",
    "metrics.confusion_matrix(y_test,y_pred)\n",
    "\n",
    "accuracy \n",
    "# Same as setting weights in the fit method\n"
   ]
  },
  {
   "cell_type": "markdown",
   "metadata": {},
   "source": [
    "#### SMOTE"
   ]
  },
  {
   "cell_type": "code",
   "execution_count": 74,
   "metadata": {},
   "outputs": [
    {
     "data": {
      "text/plain": [
       "array([[817, 369],\n",
       "       [ 15,  24]])"
      ]
     },
     "execution_count": 74,
     "metadata": {},
     "output_type": "execute_result"
    }
   ],
   "source": [
    "x_resampled, y_resampled = SMOTE().fit_resample(x, y)\n",
    "# Fit on oversampled data set\n",
    "logistic_model.fit(x_resampled,y_resampled)\n",
    "\n",
    "\n",
    "# Make predictions on testing values\n",
    "y_pred = logistic_model.predict(x_test)\n",
    "\n",
    "# Accuracy\n",
    "accuracy = metrics.accuracy_score(y_test,y_pred)\n",
    "\n",
    "metrics.confusion_matrix(y_test,y_pred)\n"
   ]
  },
  {
   "cell_type": "markdown",
   "metadata": {},
   "source": [
    "#### XGBoost Baseline - Doesn't help much in this case!\n",
    "- Shows that this is not only an issue for logistic regression\n",
    "- other methods are equally prone"
   ]
  },
  {
   "cell_type": "code",
   "execution_count": 36,
   "metadata": {},
   "outputs": [],
   "source": [
    "from xgboost import XGBClassifier"
   ]
  },
  {
   "cell_type": "code",
   "execution_count": 59,
   "metadata": {},
   "outputs": [
    {
     "data": {
      "text/plain": [
       "0.9681632653061224"
      ]
     },
     "execution_count": 59,
     "metadata": {},
     "output_type": "execute_result"
    }
   ],
   "source": [
    "# fit model on training data\n",
    "modelx = XGBClassifier()\n",
    "\n",
    "# Evaluation set\n",
    "eval_set = [(x_test, y_test)]\n",
    "\n",
    "# Fit the model\n",
    "modelx.fit(x_train, y_train, early_stopping_rounds=10, eval_metric=\"logloss\", eval_set=eval_set, verbose=False)\n",
    "\n",
    "# make predictions for test data\n",
    "#y_pred = model.predict(X_test)\n",
    "#predictions = [round(value) for value in y_pred]\n",
    "# evaluate predictions\n",
    "metrics.accuracy_score(y_test, predictions)\n"
   ]
  },
  {
   "cell_type": "code",
   "execution_count": 69,
   "metadata": {},
   "outputs": [
    {
     "name": "stderr",
     "output_type": "stream",
     "text": [
      "/home/adam/anaconda3/lib/python3.6/site-packages/sklearn/preprocessing/label.py:151: DeprecationWarning: The truth value of an empty array is ambiguous. Returning False, but in future this will result in an error. Use `array.size > 0` to check that an array is not empty.\n",
      "  unique_values = np.unique(values)\n"
     ]
    }
   ],
   "source": [
    "# make predictions for test data\n",
    "#y_pred = modelx.predict(x_test)\n",
    "y_pred = modelx.predict(x_test)"
   ]
  },
  {
   "cell_type": "code",
   "execution_count": 70,
   "metadata": {},
   "outputs": [
    {
     "data": {
      "text/plain": [
       "array([[1184,    2],\n",
       "       [  37,    2]])"
      ]
     },
     "execution_count": 70,
     "metadata": {},
     "output_type": "execute_result"
    }
   ],
   "source": [
    "metrics.confusion_matrix(y_test,y_pred)"
   ]
  },
  {
   "cell_type": "markdown",
   "metadata": {},
   "source": [
    "#### References \n",
    "\n",
    "P. Cortez, A. Cerdeira, F. Almeida, T. Matos and J. Reis.\n",
    "  Modeling wine preferences by data mining from physicochemical properties.\n",
    "  In Decision Support Systems, Elsevier, 47(4):547-553. ISSN: 0167-9236."
   ]
  }
 ],
 "metadata": {
  "kernelspec": {
   "display_name": "Python 3",
   "language": "python",
   "name": "python3"
  },
  "language_info": {
   "codemirror_mode": {
    "name": "ipython",
    "version": 3
   },
   "file_extension": ".py",
   "mimetype": "text/x-python",
   "name": "python",
   "nbconvert_exporter": "python",
   "pygments_lexer": "ipython3",
   "version": "3.6.5"
  },
  "varInspector": {
   "cols": {
    "lenName": 16,
    "lenType": 16,
    "lenVar": 40
   },
   "kernels_config": {
    "python": {
     "delete_cmd_postfix": "",
     "delete_cmd_prefix": "del ",
     "library": "var_list.py",
     "varRefreshCmd": "print(var_dic_list())"
    },
    "r": {
     "delete_cmd_postfix": ") ",
     "delete_cmd_prefix": "rm(",
     "library": "var_list.r",
     "varRefreshCmd": "cat(var_dic_list()) "
    }
   },
   "types_to_exclude": [
    "module",
    "function",
    "builtin_function_or_method",
    "instance",
    "_Feature"
   ],
   "window_display": false
  }
 },
 "nbformat": 4,
 "nbformat_minor": 2
}
