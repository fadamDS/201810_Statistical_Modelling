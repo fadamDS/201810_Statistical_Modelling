{
 "cells": [
  {
   "cell_type": "markdown",
   "metadata": {},
   "source": [
    "## Pre-Preliminary Version\n",
    "\n",
    "\n",
    "### Sampling Methods for Class Imbalance Issues\n",
    "\n",
    "#### Project for the Statistical Modelling Course - Felix Adam\n",
    "\n",
    "When used properly, statistical classification can help to tackle all sorts of problems: identifiyng fraud, rare diseases or excellent products. However, problems can arise, when the class of interest is severily underrepresented in the data.\n",
    "\n",
    "It is easy to imagine, that the number of observations of the class of interest doesn't exceed 5 percent of all observations. Linear classifiers such as logistic regression tend to perform badly in this setting, due to the fact that they 'learn' the features of the majority class. Predicting that an observation belongs to the majority class is a simple task in this case, while the minority class won't be predicted at all. \n",
    "\n",
    "- Example: Rare disease found in 10 / 1000 people\n",
    "- Classifier just assigns healthy to every person\n",
    "- Will have accuracy of 99% -> Great?\n",
    "\n",
    "An example could be that doctors use an algorithm to classify patients as healthy or not healthy, with respect to a rare disease. The algorithm is trained on a large sample, with potentially thousands of observations. However, if the sample only contains a small amount of 'interesting' cases, the algorithm will learn the healthy cases. When used in action, this will lead to devistating results, given that all sick patients are potentially classified as healthy. \n",
    "\n",
    "Ironically, predicting rare events is one of the most important and interesting tasks in classification. Luckily, there are some techniques for dealing with class imbalances. This notebook is centered around the question of how to deal with such imbalances, following a real data set. \n",
    "I will first discuss the issues that arise when not accounting for class imbalances. Then I'll present undersampling of the majority class as simple remedy. I will later extend this method to synthetic oversampling using the Synthetic Minority Oversampling Technique (SMOTE). In the last section I'll discuss further applications, benefits and shortfalls of the presented techniques and other options available.\n",
    "\n",
    "- My findings are\n",
    "\n",
    "0. The data\n",
    "\n",
    "1. Demonstrate the issue using the wine example\n",
    "    \n",
    "    - Logistic regression seemingly performs well when checking accuracy\n",
    "    - Horrible performance in total, only able to classify \"uninteresting classes\"\n",
    "    - Discussion of ROC, AUC and general assessment of classifiers\n",
    "    - Aiming for high AUC!\n",
    "    - -> Good general performance!\n",
    "    - Provost and Fawcett (1997): Convex hull\n",
    "    \n",
    "2. Re-Sampling Methods with application in logistic regression\n",
    "    - Crucial to reweight the learned probabilities!\n",
    "    - Check also, what is the intercept?\n",
    "\n",
    "2. Simple resampling: Undersampling of the majority class\n",
    "\n",
    "    - Discuss method\n",
    "    - Methodology, idea behind it -> Theory\n",
    "    - Show performance compared to base case\n",
    "\n",
    "3. Extension: SMOTE\n",
    "\n",
    "    - Theory, methodology\n",
    "    - Discuss\n",
    "    - Implement and show performance\n",
    "\n",
    "4. Discussion: Which method should be used?\n",
    "\n",
    "    - What about just moving the descision boundary? (Also mentioned in the SMOTE paper)\n",
    "    - Benefits/ Shortfalls\n",
    "    \n",
    "\n",
    "#### Notes\n",
    "\n",
    "- Issue of PREDICTION \n",
    "- Aim of this doc is to present sampling methods, not classifiers\n",
    "- No information rate (see book, page 255)\n",
    "- CV done false: Check your CV set up\n",
    "- When are you using sampling techniques? Before or after CV?\n",
    "- CV at all?\n",
    "- What about flipping the situation around, making the majority class the minority class? Would this make any sense?\n",
    "- Check, whether there is actually a clear linear descision boundary, which could be exploited, otherwise use aritifical data!\n",
    "\n",
    "\n",
    "\n",
    "Consider testing under-sampling when you have an a lot data (tens- or hundreds of thousands of instances or more)\n",
    "Consider testing over-sampling when you don’t have a lot of data (tens of thousands of records or less)\n",
    "Consider testing random and non-random (e.g. stratified) sampling schemes.\n",
    "\n",
    "#### This is important\n",
    "Consider testing different resampled ratios (e.g. you don’t have to target a 1:1 ratio in a binary classification problem, try other ratios)\n",
    "        - Play around with different ratios, try to get the optimum, however, try on training set\n",
    "        - Maybe also shows overfitting in the end!\n"
   ]
  },
  {
   "cell_type": "code",
   "execution_count": 1,
   "metadata": {
    "hide_input": false
   },
   "outputs": [],
   "source": [
    "%matplotlib inline\n",
    "\n",
    "# Importing libraries\n",
    "import pandas as pd\n",
    "import numpy as np\n",
    "import seaborn as sns\n",
    "import matplotlib.pyplot as plt\n",
    "from sklearn.linear_model import LogisticRegression, LogisticRegressionCV\n",
    "from sklearn.model_selection import cross_val_score, train_test_split\n",
    "from sklearn import metrics"
   ]
  },
  {
   "cell_type": "markdown",
   "metadata": {},
   "source": [
    "#### The Wine-Quality Data Set\n",
    "To make this issue more tangible, I will use the wine-quality dataset presented by Cortez et. al (2009). The dataset contains information on red and white wines from the Minho region in Portugal. I will focus on predicting the quality of white wine in this example."
   ]
  },
  {
   "cell_type": "markdown",
   "metadata": {},
   "source": [
    "##### Data Loading "
   ]
  },
  {
   "cell_type": "code",
   "execution_count": 38,
   "metadata": {},
   "outputs": [],
   "source": [
    "# Filepath\n",
    "filepath = \"../data/\"\n",
    "\n",
    "\n",
    "\n",
    "# Loading data\n",
    "wine = pd.read_csv(filepath+ 'winequality-white.csv', sep= \";\")\n",
    "\n",
    "#wine = pd.read_csv(filepath + 'winequality-red.csv', sep = \";\")"
   ]
  },
  {
   "cell_type": "markdown",
   "metadata": {
    "variables": {
     "wine.shape[0]": "4898",
     "wine.shape[1]": "12"
    }
   },
   "source": [
    "The dataset includes {{wine.shape[0]}} observations, each with {{wine.shape[1]}} features, where one feature is the quality of the wine (see table below). The wines are assesed by three professional wine tasters who give each wine a grade from 0 (bad) to 10 (excellent). The final grade is calculated as the median of the three values (Cortez et al. 2009). While wine tasting has a bad reputation as being unscientific (Hodgson, 2008), I will assume that the scores actually represent a valid rating. At a minimum, the goal is to predict the taste of these three particular wine tasters."
   ]
  },
  {
   "cell_type": "code",
   "execution_count": 39,
   "metadata": {
    "hide_input": false
   },
   "outputs": [
    {
     "data": {
      "text/html": [
       "<div>\n",
       "<style scoped>\n",
       "    .dataframe tbody tr th:only-of-type {\n",
       "        vertical-align: middle;\n",
       "    }\n",
       "\n",
       "    .dataframe tbody tr th {\n",
       "        vertical-align: top;\n",
       "    }\n",
       "\n",
       "    .dataframe thead th {\n",
       "        text-align: right;\n",
       "    }\n",
       "</style>\n",
       "<table border=\"1\" class=\"dataframe\">\n",
       "  <thead>\n",
       "    <tr style=\"text-align: right;\">\n",
       "      <th></th>\n",
       "      <th>fixed acidity</th>\n",
       "      <th>volatile acidity</th>\n",
       "      <th>citric acid</th>\n",
       "      <th>residual sugar</th>\n",
       "      <th>chlorides</th>\n",
       "      <th>free sulfur dioxide</th>\n",
       "      <th>total sulfur dioxide</th>\n",
       "      <th>density</th>\n",
       "      <th>pH</th>\n",
       "      <th>sulphates</th>\n",
       "      <th>alcohol</th>\n",
       "      <th>quality</th>\n",
       "    </tr>\n",
       "  </thead>\n",
       "  <tbody>\n",
       "    <tr>\n",
       "      <th>2816</th>\n",
       "      <td>7.2</td>\n",
       "      <td>0.17</td>\n",
       "      <td>0.41</td>\n",
       "      <td>1.60</td>\n",
       "      <td>0.052</td>\n",
       "      <td>24.0</td>\n",
       "      <td>126.0</td>\n",
       "      <td>0.99228</td>\n",
       "      <td>3.19</td>\n",
       "      <td>0.49</td>\n",
       "      <td>10.8</td>\n",
       "      <td>5</td>\n",
       "    </tr>\n",
       "    <tr>\n",
       "      <th>631</th>\n",
       "      <td>7.0</td>\n",
       "      <td>0.23</td>\n",
       "      <td>0.42</td>\n",
       "      <td>18.05</td>\n",
       "      <td>0.050</td>\n",
       "      <td>35.0</td>\n",
       "      <td>144.0</td>\n",
       "      <td>0.99990</td>\n",
       "      <td>3.22</td>\n",
       "      <td>0.42</td>\n",
       "      <td>8.8</td>\n",
       "      <td>5</td>\n",
       "    </tr>\n",
       "    <tr>\n",
       "      <th>157</th>\n",
       "      <td>6.1</td>\n",
       "      <td>0.32</td>\n",
       "      <td>0.24</td>\n",
       "      <td>1.50</td>\n",
       "      <td>0.036</td>\n",
       "      <td>38.0</td>\n",
       "      <td>124.0</td>\n",
       "      <td>0.98980</td>\n",
       "      <td>3.29</td>\n",
       "      <td>0.42</td>\n",
       "      <td>12.4</td>\n",
       "      <td>7</td>\n",
       "    </tr>\n",
       "    <tr>\n",
       "      <th>2646</th>\n",
       "      <td>5.7</td>\n",
       "      <td>0.18</td>\n",
       "      <td>0.36</td>\n",
       "      <td>1.20</td>\n",
       "      <td>0.046</td>\n",
       "      <td>9.0</td>\n",
       "      <td>71.0</td>\n",
       "      <td>0.99199</td>\n",
       "      <td>3.70</td>\n",
       "      <td>0.68</td>\n",
       "      <td>10.9</td>\n",
       "      <td>7</td>\n",
       "    </tr>\n",
       "    <tr>\n",
       "      <th>3900</th>\n",
       "      <td>7.0</td>\n",
       "      <td>0.34</td>\n",
       "      <td>0.10</td>\n",
       "      <td>3.50</td>\n",
       "      <td>0.044</td>\n",
       "      <td>17.0</td>\n",
       "      <td>63.0</td>\n",
       "      <td>0.99370</td>\n",
       "      <td>3.01</td>\n",
       "      <td>0.39</td>\n",
       "      <td>9.2</td>\n",
       "      <td>5</td>\n",
       "    </tr>\n",
       "  </tbody>\n",
       "</table>\n",
       "</div>"
      ],
      "text/plain": [
       "      fixed acidity  volatile acidity  citric acid  residual sugar  chlorides  \\\n",
       "2816            7.2              0.17         0.41            1.60      0.052   \n",
       "631             7.0              0.23         0.42           18.05      0.050   \n",
       "157             6.1              0.32         0.24            1.50      0.036   \n",
       "2646            5.7              0.18         0.36            1.20      0.046   \n",
       "3900            7.0              0.34         0.10            3.50      0.044   \n",
       "\n",
       "      free sulfur dioxide  total sulfur dioxide  density    pH  sulphates  \\\n",
       "2816                 24.0                 126.0  0.99228  3.19       0.49   \n",
       "631                  35.0                 144.0  0.99990  3.22       0.42   \n",
       "157                  38.0                 124.0  0.98980  3.29       0.42   \n",
       "2646                  9.0                  71.0  0.99199  3.70       0.68   \n",
       "3900                 17.0                  63.0  0.99370  3.01       0.39   \n",
       "\n",
       "      alcohol  quality  \n",
       "2816     10.8        5  \n",
       "631       8.8        5  \n",
       "157      12.4        7  \n",
       "2646     10.9        7  \n",
       "3900      9.2        5  "
      ]
     },
     "execution_count": 39,
     "metadata": {},
     "output_type": "execute_result"
    }
   ],
   "source": [
    "wine.sample(5)"
   ]
  },
  {
   "cell_type": "code",
   "execution_count": 40,
   "metadata": {
    "hide_input": false
   },
   "outputs": [
    {
     "data": {
      "image/png": "[encoded data removed]",
      "text/plain": [
       "<Figure size 576x432 with 1 Axes>"
      ]
     },
     "metadata": {},
     "output_type": "display_data"
    }
   ],
   "source": [
    "plt.rcParams['figure.figsize'] = (8,6)\n",
    "quality_plt = sns.countplot(x= 'quality', data=wine)\n",
    "quality_plt.set_xlabel('Quality')\n",
    "quality_plt.set_ylabel('Nr of Wines')\n",
    "quality_plt.set_title('Distribution of Wine Quality');"
   ]
  },
  {
   "cell_type": "markdown",
   "metadata": {},
   "source": [
    "#### Binary Predictions\n",
    "My goal is to predict the quality of a wine using its chemical features. To simplify the estimation and emphasize the issue of class imbalances, I will transform the problem to a 'One vs. Rest' setup (Bishop ,2006, p. 183f). Wines with a quality equal or above 8 will be assigned to have high quality and wines below 8 are classified as low quality.\n",
    "\n",
    "As shown above, the quality of most wines lies between 5 and 7. Transforming the quality to binary values, one can see that high quality wines are severily underrepresented.\n",
    "\n",
    "- Example using costs\n",
    "The idea behind logistic regression can be motivated from an example. A winery has collected the grapes of the season and the winegrower has given her best to produce an excellent wine. Now the accountant of the winery comes into play and asks how he should price the wine, given it's quality. Preferrably, he would like to have an idea of how sure he can be that a wine is of particularly high quality, so that he doesn't end up with a mountain of overpriced, low quality wine. Logistic regression can be used in this case to obtain the probability of a wine belonging to the high quality group.\n"
   ]
  },
  {
   "cell_type": "code",
   "execution_count": 41,
   "metadata": {},
   "outputs": [],
   "source": [
    "wine['quality_class'] = [1 if q >=  8 else 0 for q in wine.quality]\n",
    "\n",
    "# Calculating base rate\n",
    "base_rate = round(wine['quality_class'].value_counts()[1]/wine['quality_class'].value_counts()[0] ,4) "
   ]
  },
  {
   "cell_type": "code",
   "execution_count": 42,
   "metadata": {},
   "outputs": [
    {
     "data": {
      "text/plain": [
       "3.82"
      ]
     },
     "execution_count": 42,
     "metadata": {},
     "output_type": "execute_result"
    }
   ],
   "source": [
    "base_rate * 100"
   ]
  },
  {
   "cell_type": "markdown",
   "metadata": {
    "variables": {
     " round(base_rate * 100,2)": "3.82",
     "round((1-base_rate) * 100,2)": "96.18",
     "wine['quality_class'].value_counts()[0]": "4718",
     "wine['quality_class'].value_counts()[1]": "180"
    }
   },
   "source": [
    "After the transformation, there are {{wine['quality_class'].value_counts()[0]}} observations of low quality wines and {{wine['quality_class'].value_counts()[1]}} obersvations of high quality wines. The base rate in this case is \n",
    "{{ round(base_rate \\* 100,2)}} percent. It is important to notice, that one could achieve a prediction accuracy of {{round((1-base_rate) * 100,2)}} percent by guessing that all wines presented belong to the low quality class.\n",
    "\n",
    "For my subsequent analysis I will use logistic regression to predict wine quality, while applying different sampling methods.\n",
    "\n",
    "\n",
    "Using logistic regression, the probability can be modeled as a logistic transformation of a linear combination of the features of the wine. Given the features $\\phi(x)$, the logg-odds $l$ can be modeled as $l  = ln(\\frac{p}{1-p}) = \\phi(X^T) \\beta$  where $\\beta$ is a vector of parameters to estimate. Then, a logistic transformation can be used to achieve $y \\in (0,1)$ \n",
    "\n",
    "$$\\mu(x,\\beta) = \\frac{1}{1+e^{-\\phi(x^T)\\beta}}$$\n",
    "\n",
    "The conditional mean $\\mu$ depends on the features $X$ and $\\beta$ and $y \\sim Bernoulli( \\mu(x,\\beta) ) $. \n",
    "\n",
    "\n",
    "\n",
    "- Disucssion of logistic regression, short?\n",
    "\n",
    "\n",
    "However, in reality, dealing with class imbalances is not just about using different sampling techniques. Rather, as discussed by Weiss (2013), one should first focus on the underlying data-issues at hand. Weiss (2013) mentions problem-definition-level issues, data-level issues and algorithm-level issues. In this set-up, it would be sensible to gather more data on wine-quality in general, or explore different algorithms. \n",
    "- Also variable selection and feature \n",
    "\n",
    "?? While variable selection and feature engineering play a crucial role in predictive modelling, I will just use all available features for this task. \n",
    "?? I will try to identify the best predictive model using 10 fold cross validation. \n",
    "\n",
    "#### Estimation Set-Up\n",
    "\n",
    "- Ask Omiros, but I would generally follow the procedure described here\n",
    "\n",
    "- Make a training and testing data set, stratified\n",
    "- All methods will be applied on the same training data set (under-, oversampling, smote)\n",
    "- Then for each model fitted on the resulting training set, estimate on the testing data set??\n",
    "- Use 10 fold CV to find the best model?\n",
    "\n",
    "- Discuss evaluation metrics in the first naive implementation.\n",
    "\n",
    "- Change the scoring method to take into account precision or other scoring methods\n",
    "\n",
    "##### Splitting data into training and testing set"
   ]
  },
  {
   "cell_type": "code",
   "execution_count": 70,
   "metadata": {},
   "outputs": [
    {
     "data": {
      "text/plain": [
       "0.036734693877551024"
      ]
     },
     "execution_count": 70,
     "metadata": {},
     "output_type": "execute_result"
    }
   ],
   "source": [
    "## Making testing and training data sets ##\n",
    "\n",
    "# Extract features and dependent variable\n",
    "y = wine['quality_class']\n",
    "x = wine[list(wine)[:-2]]\n",
    "\n",
    "# Split into testing and training data, stratified!\n",
    "x_train, x_test, y_train, y_test = train_test_split(x,y, test_size=0.25, stratify = y)\n",
    "\n",
    "# Baseline was 3 percent, verify that stratified sampling worked\n",
    "sum(y_test == 1) / len(y_test)"
   ]
  },
  {
   "cell_type": "markdown",
   "metadata": {},
   "source": [
    "#### Baseline Logistic Regression\n",
    "I will no start with the baseline logistic regression model without any application of sampling methods, using pythons sklearn library.\n",
    "\n",
    "- Discuss model?"
   ]
  },
  {
   "cell_type": "code",
   "execution_count": 289,
   "metadata": {},
   "outputs": [],
   "source": [
    "# Instantiate the model, intercept, 5-Fold Cv, no class weights (default).\n",
    "baseline_model = LogisticRegression(solver='liblinear', max_iter= 100, fit_intercept= True)\n",
    "\n",
    "# Fit the model \n",
    "baseline_model.fit(x_train,y_train);\n",
    "\n",
    "# Make predictions on training values\n",
    "\n",
    "# Testing with different thresholds\n",
    "baseline_proba = baseline_model.predict_proba(x_test)\n",
    "baseline_pred = [1 if prob >= 0.1 else 0 for prob in baseline_proba[::,1]]"
   ]
  },
  {
   "cell_type": "markdown",
   "metadata": {},
   "source": [
    "- Seemed like a fairly straightforward process\n",
    "- One could imagine that this is all fairly easy\n",
    "- Now it's time to access the model performance\n",
    "x\n",
    "#### Model Performance\n",
    "\n",
    "- Will analyze various metrics, starting with accuracy\n",
    "- What is accuracy?\n",
    "\n",
    "Overall accuracy rate is calculated as the number of true negatives plus true positives divided by all classifications made\n",
    "\n",
    "\\begin{equation}\n",
    "accuracy = \\frac{tp + tn}{n} \n",
    "\\end{equation}\n",
    "\n",
    "Sklearns metrics library comes with many built in scoring methods"
   ]
  },
  {
   "cell_type": "code",
   "execution_count": 291,
   "metadata": {},
   "outputs": [
    {
     "name": "stdout",
     "output_type": "stream",
     "text": [
      "Accuracy score: 0.881\n"
     ]
    }
   ],
   "source": [
    "# Accuracy\n",
    "accuracy_baseline = metrics.accuracy_score(y_test,baseline_pred)\n",
    "print('Accuracy score: ' + str(round(accuracy,4)))"
   ]
  },
  {
   "cell_type": "markdown",
   "metadata": {
    "variables": {
     "round( accuracy_baseline * 100,2)": "96.33"
    }
   },
   "source": [
    "The accuracy score of {{round( accuracy_baseline \\* 100,2)}} percent looks great at first. After all, roughly 96 percent of the wines have been classified correctly. \n",
    "\n",
    "- Which other metrics have to be assessed?\n",
    "- Precision\n",
    "- Recall\n",
    "- Confusion Matrix\n",
    "- ROC / AUC\n",
    "\n",
    "##### Confusion Matrix"
   ]
  },
  {
   "cell_type": "code",
   "execution_count": 292,
   "metadata": {},
   "outputs": [
    {
     "data": {
      "image/png": "[encoded data removed]",
      "text/plain": [
       "<Figure size 576x432 with 2 Axes>"
      ]
     },
     "metadata": {},
     "output_type": "display_data"
    }
   ],
   "source": [
    "# Confusion matrix\n",
    "plt.rcParams['figure.figsize'] = (8,6)\n",
    "\n",
    "# Get confusion matrix\n",
    "cnf_matrix = metrics.confusion_matrix(y_test,y_pred)\n",
    "\n",
    "# Plot as heatmap\n",
    "class_names=[0,1] # name  of classes\n",
    "fig, ax = plt.subplots() \n",
    "tick_marks = np.arange(len(class_names)) \n",
    "plt.xticks(tick_marks, class_names)\n",
    "plt.yticks(tick_marks, class_names)\n",
    "sns.heatmap(pd.DataFrame(cnf_matrix), cmap=\"YlGnBu\", annot=True,fmt='g')\n",
    "ax.xaxis.set_label_position(\"top\")\n",
    "plt.tight_layout()\n",
    "plt.title('Confusion matrix', y=1.1)\n",
    "plt.ylabel('Actual label')\n",
    "plt.xlabel('Predicted label');"
   ]
  },
  {
   "cell_type": "markdown",
   "metadata": {},
   "source": [
    "- Classifier predicts that all observations belong to the bad wine - class\n",
    "- Within the testing set, there were 45 high quality wines, which were all predicted to be of low quality. \n",
    "- That is why accuracy is a horrible metric for performance evaluation in this case\n",
    "- Accuracy and costs \n",
    "- TN, FN, FP, TP\n",
    "- Discuss costs associated\n",
    "\n",
    "##### Precision"
   ]
  },
  {
   "cell_type": "code",
   "execution_count": 293,
   "metadata": {},
   "outputs": [
    {
     "name": "stdout",
     "output_type": "stream",
     "text": [
      "Accuracy: 0.9640816326530612\n",
      "Precision: 0.6\n",
      "Recall: 0.06666666666666667\n"
     ]
    }
   ],
   "source": [
    "print(\"Accuracy:\",metrics.accuracy_score(y_test, y_pred))\n",
    "print(\"Precision:\",metrics.precision_score(y_test, y_pred))\n",
    "print(\"Recall:\",metrics.recall_score(y_test, y_pred))\n"
   ]
  },
  {
   "cell_type": "markdown",
   "metadata": {},
   "source": [
    "#### AUC \n",
    "\n",
    "- AUC is an accepted traditional performance metric for a ROC Curve (SMOTE Paper),Duda, Hart, & Stork, 2001; Bradley, 1997; Lee, 2000)\n",
    "- ROC Convex Hull?"
   ]
  },
  {
   "cell_type": "code",
   "execution_count": 294,
   "metadata": {},
   "outputs": [
    {
     "data": {
      "image/png": "[encoded data removed]",
      "text/plain": [
       "<Figure size 576x432 with 1 Axes>"
      ]
     },
     "metadata": {},
     "output_type": "display_data"
    }
   ],
   "source": [
    "y_pred_proba = baseline_model.predict_proba(x_test)[::,1]\n",
    "fpr, tpr, _ = metrics.roc_curve(y_test,  y_pred_proba)\n",
    "auc = metrics.roc_auc_score(y_test, y_pred_proba)\n",
    "fig, ax = plt.subplots() \n",
    "ax.plot(ax.get_xlim(), ax.get_ylim(), ls=\"--\", c=\".3\")\n",
    "plt.plot(fpr,tpr,label=\"data 1, auc=\"+str(auc))\n",
    "plt.legend(loc=4)\n",
    "plt.show()"
   ]
  },
  {
   "cell_type": "markdown",
   "metadata": {},
   "source": [
    "#### Random Oversampling"
   ]
  },
  {
   "cell_type": "code",
   "execution_count": 347,
   "metadata": {},
   "outputs": [],
   "source": [
    "from imblearn import over_sampling \n",
    "ros = over_sampling.RandomOverSampler(random_state=0)\n",
    "X_oversampled, y_oversampled = ros.fit_resample(x, y)\n",
    "\n",
    "# Instantiate the model, very small penalty, intercept, 10-Fold Cv, no class weights (default)\n",
    "oversampled_model = LogisticRegression(solver='liblinear', max_iter= 100, fit_intercept= True, class_weight='balanced')\n",
    "\n",
    "# Fit the model \n",
    "oversampled_model.fit(X_oversampled, y_oversampled );\n",
    "\n",
    "##### NOW RE-WEIGHT THE LEARNED PROBABILITES!!! EXTREMLY IMPORTANT TO CHECK HERE #####"
   ]
  },
  {
   "cell_type": "markdown",
   "metadata": {},
   "source": [
    "#### Prior correction\n",
    "\n",
    "- Having used the oversampled sample, need to adjust prior probabilities. \n",
    "- Luckily, this only means adjusting the intercept"
   ]
  },
  {
   "cell_type": "code",
   "execution_count": 348,
   "metadata": {},
   "outputs": [
    {
     "name": "stdout",
     "output_type": "stream",
     "text": [
      "Un-corrected model intercept: [-6.13600769]\n",
      "Corrected model intercept: [-9.40204978]\n"
     ]
    }
   ],
   "source": [
    "print('Un-corrected model intercept: ' + str(oversampled_model.intercept_))\n",
    "\n",
    "# Get current intercept\n",
    "current_intercept = oversampled_model.intercept_\n",
    "\n",
    "# Get population values as simple sample averages from the training sample\n",
    "tau = sum(y_train) / len(y_train)\n",
    "\n",
    "# Resampled population values\n",
    "y_hat = sum(y_oversampled) / len(y_oversampled)\n",
    "\n",
    "# Rescale the intercept using the formula \n",
    "corrected_intercept = current_intercept - np.log(  ((1-tau) / tau) *  (y_hat / (1-y_hat)))\n",
    "\n",
    "print('Corrected model intercept: ' + str(corrected_intercept))\n",
    "\n",
    "# Set corrected intercept as new model intercept\n",
    "oversampled_model.intercept_ = corrected_intercept"
   ]
  },
  {
   "cell_type": "markdown",
   "metadata": {},
   "source": [
    "#### Simple Over / Undersampling using balancing"
   ]
  },
  {
   "cell_type": "code",
   "execution_count": 349,
   "metadata": {},
   "outputs": [
    {
     "name": "stdout",
     "output_type": "stream",
     "text": [
      "0.963265306122449\n"
     ]
    },
    {
     "data": {
      "text/plain": [
       "array([[1180,    0],\n",
       "       [  45,    0]])"
      ]
     },
     "execution_count": 349,
     "metadata": {},
     "output_type": "execute_result"
    }
   ],
   "source": [
    "# Make predictions on testing values\n",
    "y_pred_oversampled = oversampled_model.predict(x_test)\n",
    "\n",
    "# Accuracy\n",
    "accuracy = metrics.accuracy_score(y_test,y_pred_oversampled)\n",
    "print(accuracy)\n",
    "\n",
    "metrics.confusion_matrix(y_test,y_pred_oversampled)\n"
   ]
  },
  {
   "cell_type": "code",
   "execution_count": 350,
   "metadata": {},
   "outputs": [
    {
     "data": {
      "image/png": "[encoded data removed]",
      "text/plain": [
       "<Figure size 576x432 with 1 Axes>"
      ]
     },
     "metadata": {},
     "output_type": "display_data"
    }
   ],
   "source": [
    "y_over_proba = oversampled_model.predict_proba(x_test)[::,1]\n",
    "fpr, tpr, _ = metrics.roc_curve(y_test,  y_over_proba)\n",
    "auc = metrics.roc_auc_score(y_test, y_over_proba)\n",
    "fig, ax = plt.subplots() \n",
    "ax.plot(ax.get_xlim(), ax.get_ylim(), ls=\"--\", c=\".3\")\n",
    "plt.plot(fpr,tpr,label=\"data 1, auc=\"+str(auc))\n",
    "plt.legend(loc=4)\n",
    "plt.show()"
   ]
  },
  {
   "cell_type": "markdown",
   "metadata": {},
   "source": [
    "#### Random Under-Sampling of the majority class"
   ]
  },
  {
   "cell_type": "code",
   "execution_count": 342,
   "metadata": {},
   "outputs": [
    {
     "name": "stdout",
     "output_type": "stream",
     "text": [
      "0.6628571428571428\n"
     ]
    },
    {
     "data": {
      "text/plain": [
       "array([[778, 402],\n",
       "       [ 11,  34]])"
      ]
     },
     "execution_count": 342,
     "metadata": {},
     "output_type": "execute_result"
    }
   ],
   "source": [
    "from imblearn.under_sampling import ClusterCentroids\n",
    "cc = ClusterCentroids(random_state=0)\n",
    "X_undersampled, y_undersampled = cc.fit_resample(x_train, y_train)\n",
    "\n",
    "# Instantiate the model, very small penalty, intercept, 10-Fold Cv, no class weights (default)\n",
    "undersampled_model = LogisticRegression(solver='liblinear', max_iter= 100, fit_intercept= True, class_weight='balanced')\n",
    "\n",
    "# Fit the model \n",
    "undersampled_model.fit(X_undersampled, y_undersampled);\n",
    "\n",
    "# Make predictions on testing values\n",
    "y_pred_under = undersampled_model.predict(x_test)\n",
    "\n",
    "# Accuracy\n",
    "accuracy = metrics.accuracy_score(y_test,y_pred_under)\n",
    "print(accuracy)\n",
    "\n",
    "metrics.confusion_matrix(y_test,y_pred_under)\n"
   ]
  },
  {
   "cell_type": "code",
   "execution_count": 343,
   "metadata": {},
   "outputs": [
    {
     "data": {
      "image/png": "[encoded data removed]",
      "text/plain": [
       "<Figure size 576x432 with 1 Axes>"
      ]
     },
     "metadata": {},
     "output_type": "display_data"
    }
   ],
   "source": [
    "y_under_proba = undersampled_model.predict_proba(x_test)[::,1]\n",
    "fpr, tpr, _ = metrics.roc_curve(y_test,  y_under_proba)\n",
    "auc = metrics.roc_auc_score(y_test, y_under_proba)\n",
    "fig, ax = plt.subplots() \n",
    "ax.plot(ax.get_xlim(), ax.get_ylim(), ls=\"--\", c=\".3\")\n",
    "plt.plot(fpr,tpr,label=\"data 1, auc=\"+str(auc))\n",
    "plt.legend(loc=4)\n",
    "plt.show()"
   ]
  },
  {
   "cell_type": "markdown",
   "metadata": {},
   "source": [
    "#### SMOTE Chawla et al (2002)\n",
    "\n",
    "##### Abstract\n",
    "- Approach for dealing with imbalanced datasets\n",
    "- Imbalance: Not equal representation of classification categories\n",
    "- Happens often in the real world\n",
    "- Cost of misclassifying an \"interesting\" example are a lot higer than misclassifying \"normal\" examples\n",
    "- Paper shows a combination of over-sampling the minority class and under-sampling the majority class\n",
    "- This can achive better performance in ROC space than only under-sampling the majority class\n",
    "- Method involves creating synthetic minority class examples\n",
    "\n",
    "##### Introduction\n",
    "\n",
    "- Imbalance of order 100 to 1 can be found in fraud detection \n",
    "- others report imbalances of up to 100.000 to 1 (Provost & Fawcett, 2001)\n",
    "- Performance is often evaluated using predictive accuracy \n",
    "- Not appropriate when data is imbalanced and/or costs of different errors vary \n",
    "- Example: Cancer prediction / mammography \n",
    "- In the case of severe imbalance, a simple strategy of always predicting the majority class would give an almost perfect predicitve accuracy\n",
    "- Simple predictive accuracy is not appropriate in such situations!\n",
    "- AUC is an accepted tradional performance metric \n",
    "-  ROC Convex Hull -> Very interesting, check it out!\n",
    "\n",
    "How has the machine learning community addressed the issue of class imbalance?\n",
    "- Assign distinct costs to training examples\n",
    "- Re-sample the original dataset\n",
    "        - Either over sample the minority class\n",
    "        - And / Or under-sample the majority class\n",
    "    \n",
    "Approach presented in the paper uses under-sampling of the majority class with a special form of over-sampling of the minority class\n",
    "\n",
    "##### Performance Measures\n",
    "- Performance is typically evaluated by a confusion matrix\n",
    "- In the context of balanced datasets and equal error costs, it is reasonable to use error the error rate as a performance metric\n",
    "$$ error = 1- Accuracy$$\n",
    "\n",
    "- In presence of imbalanced datasets with unequal error costs, more appropriate to use the ROC curve\n",
    "- ROC curves can be thought of as representing the family of best decision boundaries for relative costs of TP and FP\n",
    "- X axis: % False positives\n",
    "- Y axis: % True positives\n",
    "- Ideal point on the ROC curve would be (0,100), all positive examples are classified correctly and no negative examples are misclassified as positive\n",
    "- One way a ROC curve can be swept out is by manipulating the balance of training samples for each class in a training set\n",
    "\n",
    "##### Previous Work: Imbalanced datasets \n",
    "- Kubat and Matwin (1997) selectively under-sample the majority class while keeping the original population of the minority class\n",
    "- Minority examples were divided into four categories: Some noise overlapping the positive class descision regon, borderline samples, redundant samples and safe samples\n",
    "- Ling and Li (1998): Combine over-sampling the minority class with under-sampling the majority class\n",
    "- used lift analysis instead of accuracy\n",
    "- lift curve is more similar to an ROC curve, but more tailored to marketing\n",
    "- Solberg and Solberg (1996): Oil-slick classification, balance 50-50, achieved 14% error rate on the interesting samples and 4 % error on the \"negative\" samples\n",
    "- Precision and recall\n",
    "\n",
    "*Literature summary: Under-sampling the majority class enables better classifiers to be built than over-sampling the minority class!*\n",
    "-> Very interesting summary, check?\n",
    "- Combination of the two as done in previous work does not lead to classifiers that outperform those built with undersampling of majority\n",
    "- Oversampling of the minority class has been donw by sampling with replacement from the original data, this might be an issue -> SMOTE\n",
    "\n",
    "#### SMOTE\n",
    "\n",
    "- Previous research discussed over-sampling with replacment and showed that it doesn't significantly improve minority class recognition\n",
    "- Authors argue with underlying effect in terms of descision region feature space\n",
    "- As the minority class is over-sampled by increasing amounts, the effect is to identify similar but more specific regions in the feature space as the descision region for the minority class\n",
    "\n",
    "Understanding over- and undersampling in terms of descision regions\n",
    "-> Descision boundary for linear regression?\n",
    "\n",
    "- Propose an over-sampling approach in which the minority class is over-sampled by creating synthetic examples, rather than oversampling with replacement\n",
    "- Inspired by handwriting recognition: Used real pictures and perturbed the data a bit to generate new samples\n",
    "- Generate synthetic examples by operating in \"feature space\" not \"data space\"\n",
    "- Taking each minority class sample, introducing synthetic examples along the line segments, joining any / all of the k-miniority class nearest neighbors\n",
    "- Samples are generated by taking the difference between the feature vector (sample) under consideration and it's nearest neighbor.\n",
    "- Multiply this difference by a random number between 0 and 1, add it to the feature vector under consideration\n",
    "- Causes the selection of a random point along the line segment between two specific features\n",
    "- Forces the decision region of the minority class to become more general\n",
    "- The amount of over-sampling is a parameter of the system, series of ROC curves can be generated for different populations and ROC analysis performed\n",
    "\n",
    "- Synthetic samples cause the classifier to create larger and less specific decision regions, rather than smaller and more specific regions\n",
    "- Better for decision trees?\n",
    "\n",
    "##### Under-sampling and SMOTE Combination\n",
    "- Majority class under-sampled, by randomly removing samples until the minority class becomes some specififed percentage of the majority class\n",
    "- Forces the learner to experience varying degrees of under-sampling\n",
    "- By applying a combination of under-sampling and over-sampling, the inital bias of the learner is reversed in favor of the minority class\n",
    "- This is a crucial but somewhat overlooked part of the paper! \n",
    "- The best performance is reached when combining SMOTE and under-sampling of the majority class\n",
    "\n",
    "> Combination of SMOTE and under-sampling is the way to go according to the authors"
   ]
  },
  {
   "cell_type": "code",
   "execution_count": 385,
   "metadata": {},
   "outputs": [
    {
     "name": "stdout",
     "output_type": "stream",
     "text": [
      "5307\n",
      "1769\n"
     ]
    }
   ],
   "source": [
    "from imblearn.over_sampling import SMOTE\n",
    "\n",
    "\n",
    "smote = SMOTE(k_neighbors= 2, sampling_strategy= 0.5)\n",
    "\n",
    "# Use smote to resample\n",
    "x_smote, y_smote = smote.fit_resample(x_train,y_train)\n",
    "print(len(x_smote))\n",
    "print(sum(y_smote))"
   ]
  },
  {
   "cell_type": "code",
   "execution_count": 386,
   "metadata": {},
   "outputs": [
    {
     "name": "stdout",
     "output_type": "stream",
     "text": [
      "Corrected model intercept: [-5.07816638]\n",
      "Corrected model intercept: [-9.40204978]\n"
     ]
    }
   ],
   "source": [
    "smote_model = LogisticRegression(solver='liblinear', max_iter= 100, fit_intercept= True)\n",
    "\n",
    "# Fit on oversampled data set\n",
    "smote_model.fit(x_smote,y_smote)\n",
    "\n",
    "#### Make Prior correction ###\n",
    "# Get current intercept\n",
    "smote_intercept = smote_model.intercept_\n",
    "\n",
    "print('Corrected model intercept: ' + str(smote_intercept))\n",
    "\n",
    "\n",
    "# Get population values as simple sample averages from the training sample\n",
    "tau = sum(y_train) / len(y_train)\n",
    "\n",
    "# Resampled population values\n",
    "y_hat_smote = sum(y_smote) / len(y_smote)\n",
    "\n",
    "# Rescale the intercept using the formula \n",
    "smote_corrected_intercept = current_intercept - np.log(  ((1-tau) / tau) *  (y_hat_smote / (1-y_hat_smote)))\n",
    "\n",
    "print('Corrected model intercept: ' + str(corrected_intercept))\n",
    "\n",
    "# Set corrected intercept as new model intercept\n",
    "smote_model.intercept_ = smote_corrected_intercept"
   ]
  },
  {
   "cell_type": "code",
   "execution_count": 387,
   "metadata": {},
   "outputs": [
    {
     "data": {
      "text/plain": [
       "array([0.04562935, 0.00372817, 0.00362067, ..., 0.00182705, 0.00465887,\n",
       "       0.01240275])"
      ]
     },
     "execution_count": 387,
     "metadata": {},
     "output_type": "execute_result"
    }
   ],
   "source": [
    "y_smote_proba = smote_model.predict_proba(x_test)\n",
    "y_smote_proba[::,1]"
   ]
  },
  {
   "cell_type": "code",
   "execution_count": 390,
   "metadata": {},
   "outputs": [
    {
     "name": "stdout",
     "output_type": "stream",
     "text": [
      "0.6284197631686402\n"
     ]
    },
    {
     "data": {
      "text/plain": [
       "array([[2939, 1779],\n",
       "       [  41,  139]])"
      ]
     },
     "execution_count": 390,
     "metadata": {},
     "output_type": "execute_result"
    }
   ],
   "source": [
    "y_smote_proba = smote_model.predict_proba(x)[::,1]\n",
    "\n",
    "\n",
    "y_pred_smote = [1 if prob >= 0.01 else 0 for prob in y_smote_proba]\n",
    "\n",
    "#y_pred_smote = smote_model.predict(x)\n",
    "\n",
    "# Accuracy\n",
    "accuracy = metrics.accuracy_score(y,y_pred_smote)\n",
    "print(accuracy)\n",
    "metrics.confusion_matrix(y,y_pred_smote)\n"
   ]
  },
  {
   "cell_type": "code",
   "execution_count": 391,
   "metadata": {},
   "outputs": [
    {
     "data": {
      "image/png": "[encoded data removed]",
      "text/plain": [
       "<Figure size 576x432 with 1 Axes>"
      ]
     },
     "metadata": {},
     "output_type": "display_data"
    }
   ],
   "source": [
    "y_smote_proba = smote_model.predict_proba(x_test)[::,1]\n",
    "fpr, tpr, thresholds = metrics.roc_curve(y_test,  y_smote_proba)\n",
    "auc = metrics.roc_auc_score(y_test, y_smote_proba)\n",
    "fig, ax = plt.subplots() \n",
    "ax.plot(ax.get_xlim(), ax.get_ylim(), ls=\"--\", c=\".3\")\n",
    "plt.plot(fpr,tpr,label=\"data 1, auc=\"+str(auc))\n",
    "plt.legend(loc=4)\n",
    "plt.show()"
   ]
  },
  {
   "cell_type": "markdown",
   "metadata": {},
   "source": [
    "#### SMOTE with random under-sampling"
   ]
  },
  {
   "cell_type": "code",
   "execution_count": 368,
   "metadata": {},
   "outputs": [
    {
     "data": {
      "text/plain": [
       "3673"
      ]
     },
     "execution_count": 368,
     "metadata": {},
     "output_type": "execute_result"
    }
   ],
   "source": [
    "# Under sample the data generated from smote using random under-sampling \n",
    "len(x_smote)\n",
    "\n",
    "len(x_train)"
   ]
  },
  {
   "cell_type": "code",
   "execution_count": 355,
   "metadata": {},
   "outputs": [
    {
     "data": {
      "text/plain": [
       "0.42857142857142855"
      ]
     },
     "execution_count": 355,
     "metadata": {},
     "output_type": "execute_result"
    }
   ],
   "source": [
    "sum(y_smote_ru) / len(y_smote_ru)"
   ]
  },
  {
   "cell_type": "code",
   "execution_count": 357,
   "metadata": {},
   "outputs": [
    {
     "name": "stdout",
     "output_type": "stream",
     "text": [
      "Un-corrected model intercept: [-0.9867203]\n",
      "Corrected model intercept: [-9.11436771]\n"
     ]
    }
   ],
   "source": [
    "smote_ru_model = LogisticRegression(solver='liblinear', max_iter= 100, fit_intercept= True)\n",
    "\n",
    "# Fit on oversampled data set\n",
    "smote_ru_model.fit(x_smote_ru,y_smote_ru)\n",
    "\n",
    "## Correct intercept\n",
    "\n",
    "# Get current intercept\n",
    "smote_ru_intercept = smote_ru_model.intercept_\n",
    "\n",
    "print('Un-corrected model intercept: ' + str(smote_ru_intercept))\n",
    "\n",
    "\n",
    "# Get population values as simple sample averages from the training sample\n",
    "tau = sum(y_train) / len(y_train)\n",
    "\n",
    "# Resampled population values\n",
    "y_hat_smote_ru = sum(y_smote_ru) / len(y_smote_ru)\n",
    "\n",
    "# Rescale the intercept using the formula \n",
    "smote_ru_corrected_intercept = current_intercept - np.log(  ((1-tau) / tau) *  (y_hat_smote_ru / (1-y_hat_smote_ru)))\n",
    "\n",
    "print('Corrected model intercept: ' + str(smote_ru_corrected_intercept))\n",
    "\n",
    "# Set corrected intercept as new model intercept\n",
    "smote_model.intercept_ = smote_ru_corrected_intercept"
   ]
  },
  {
   "cell_type": "code",
   "execution_count": 358,
   "metadata": {},
   "outputs": [
    {
     "data": {
      "text/plain": [
       "array([[0.15336636, 0.84663364],\n",
       "       [0.59164782, 0.40835218],\n",
       "       [0.69497418, 0.30502582],\n",
       "       ...,\n",
       "       [0.8676462 , 0.1323538 ],\n",
       "       [0.53882171, 0.46117829],\n",
       "       [0.27862901, 0.72137099]])"
      ]
     },
     "execution_count": 358,
     "metadata": {},
     "output_type": "execute_result"
    }
   ],
   "source": [
    "smote_ru_proba"
   ]
  },
  {
   "cell_type": "code",
   "execution_count": 359,
   "metadata": {},
   "outputs": [
    {
     "name": "stdout",
     "output_type": "stream",
     "text": [
      "0.726530612244898\n"
     ]
    },
    {
     "data": {
      "text/plain": [
       "array([[857, 323],\n",
       "       [ 12,  33]])"
      ]
     },
     "execution_count": 359,
     "metadata": {},
     "output_type": "execute_result"
    }
   ],
   "source": [
    "# Make predictions on testing values\n",
    "smote_ru_proba = smote_ru_model.predict_proba(x_test)\n",
    "\n",
    "y_pred_smote_ru = [1 if prob >= 0.5 else 0 for prob in smote_ru_proba[::,1]]\n",
    "\n",
    "# Accuracy\n",
    "accuracy = metrics.accuracy_score(y_test,y_pred_smote_ru)\n",
    "print(accuracy)\n",
    "metrics.confusion_matrix(y_test,y_pred_smote_ru)\n"
   ]
  },
  {
   "cell_type": "code",
   "execution_count": 360,
   "metadata": {},
   "outputs": [
    {
     "data": {
      "image/png": "[encoded data removed]",
      "text/plain": [
       "<Figure size 576x432 with 1 Axes>"
      ]
     },
     "metadata": {},
     "output_type": "display_data"
    }
   ],
   "source": [
    "smote_ru_proba = smote_ru_model.predict_proba(x_test)[::,1]\n",
    "fpr, tpr, _ = metrics.roc_curve(y_test,  smote_ru_proba)\n",
    "auc = metrics.roc_auc_score(y_test, smote_ru_proba)\n",
    "fig, ax = plt.subplots() \n",
    "ax.plot(ax.get_xlim(), ax.get_ylim(), ls=\"--\", c=\".3\")\n",
    "plt.plot(fpr,tpr,label=\"data 1, auc=\"+str(auc))\n",
    "plt.legend(loc=4)\n",
    "plt.show()"
   ]
  },
  {
   "cell_type": "markdown",
   "metadata": {},
   "source": [
    "#### XGBoost Baseline - Doesn't help much in this case!\n",
    "- Shows that this is not only an issue for logistic regression\n",
    "- I think the dataset is actually not informative at all"
   ]
  },
  {
   "cell_type": "code",
   "execution_count": 268,
   "metadata": {},
   "outputs": [],
   "source": [
    "from xgboost import XGBClassifier\n",
    "from xgboost import plot_tree, to_graphviz"
   ]
  },
  {
   "cell_type": "code",
   "execution_count": 271,
   "metadata": {},
   "outputs": [
    {
     "data": {
      "text/plain": [
       "0.9640816326530612"
      ]
     },
     "execution_count": 271,
     "metadata": {},
     "output_type": "execute_result"
    }
   ],
   "source": [
    "# fit model on training data\n",
    "boost = XGBClassifier()\n",
    "\n",
    "# Evaluation set\n",
    "eval_set = [(x_train, y_train)]\n",
    "\n",
    "# Fit the model\n",
    "model.fit(x_train, y_train, early_stopping_rounds=10, eval_metric=\"logloss\", eval_set=eval_set, verbose=False)\n",
    "\n",
    "# make predictions for test data\n",
    "y_pred = model.predict(x_test)\n",
    "predictions = [round(value) for value in y_pred]\n",
    "# evaluate predictions\n",
    "metrics.accuracy_score(y_test, predictions)\n"
   ]
  },
  {
   "cell_type": "code",
   "execution_count": 273,
   "metadata": {},
   "outputs": [],
   "source": [
    "# make predictions for test data\n",
    "#y_pred = modelx.predict(x_test)\n",
    "y_pred = model.predict(x_test)"
   ]
  },
  {
   "cell_type": "code",
   "execution_count": 274,
   "metadata": {},
   "outputs": [
    {
     "data": {
      "text/plain": [
       "array([[1178,    2],\n",
       "       [  42,    3]])"
      ]
     },
     "execution_count": 274,
     "metadata": {},
     "output_type": "execute_result"
    }
   ],
   "source": [
    "metrics.confusion_matrix(y_test,y_pred)"
   ]
  },
  {
   "cell_type": "markdown",
   "metadata": {},
   "source": [
    "#### References \n",
    "\n",
    "P. Cortez, A. Cerdeira, F. Almeida, T. Matos and J. Reis.\n",
    "  Modeling wine preferences by data mining from physicochemical properties.\n",
    "  In Decision Support Systems, Elsevier, 47(4):547-553. ISSN: 0167-9236.\n",
    "  \n",
    "He, H., & Ma, Y. (Eds.). (2013). Imbalanced learning: foundations, algorithms, and applications. John Wiley & Sons.\n",
    "\n",
    "G. Weiss (2013). Foundations of Imbalanced Learning, in Imbalanced learning: foundations, algorithms, and applications. edited by He, H., & Ma, Y.\n",
    " "
   ]
  },
  {
   "cell_type": "code",
   "execution_count": null,
   "metadata": {},
   "outputs": [],
   "source": []
  }
 ],
 "metadata": {
  "kernelspec": {
   "display_name": "Python 3",
   "language": "python",
   "name": "python3"
  },
  "language_info": {
   "codemirror_mode": {
    "name": "ipython",
    "version": 3
   },
   "file_extension": ".py",
   "mimetype": "text/x-python",
   "name": "python",
   "nbconvert_exporter": "python",
   "pygments_lexer": "ipython3",
   "version": "3.6.5"
  },
  "toc": {
   "base_numbering": 1,
   "nav_menu": {},
   "number_sections": true,
   "sideBar": true,
   "skip_h1_title": false,
   "title_cell": "Table of Contents",
   "title_sidebar": "Contents",
   "toc_cell": false,
   "toc_position": {},
   "toc_section_display": true,
   "toc_window_display": false
  },
  "varInspector": {
   "cols": {
    "lenName": 16,
    "lenType": 16,
    "lenVar": 40
   },
   "kernels_config": {
    "python": {
     "delete_cmd_postfix": "",
     "delete_cmd_prefix": "del ",
     "library": "var_list.py",
     "varRefreshCmd": "print(var_dic_list())"
    },
    "r": {
     "delete_cmd_postfix": ") ",
     "delete_cmd_prefix": "rm(",
     "library": "var_list.r",
     "varRefreshCmd": "cat(var_dic_list()) "
    }
   },
   "types_to_exclude": [
    "module",
    "function",
    "builtin_function_or_method",
    "instance",
    "_Feature"
   ],
   "window_display": false
  }
 },
 "nbformat": 4,
 "nbformat_minor": 2
}
