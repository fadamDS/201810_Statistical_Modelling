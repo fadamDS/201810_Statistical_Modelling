{
 "cells": [
  {
   "cell_type": "markdown",
   "metadata": {},
   "source": [
    "### Sampling Methods for Class Imbalance Issues - Predicting Excellent Wines \n",
    "\n",
    "#### Project for the Statistical Modelling Course - Felix Adam\n",
    "\n",
    "When used properly, statistical classification can help to tackle all sorts of problems: identifiyng fraud, rare diseases or excellent products. However, problems can arise, when the class of interest is severily underrepresented in the data.\n",
    "\n",
    "It is easy to imagine, that the number of observations of the class of interest doesn't exceed 5 percent of all observations. Linear classifiers such as logistic regression tend to perform badly in this setting, due to the fact that they 'learn' the features of the majority class. Predicting that an observation belongs to the majority class is a simple task in this case, while the minority class won't be predicted at all. \n",
    "\n",
    "- Example: Rare disease found in 10 / 1000 people\n",
    "- Classifier just assigns healthy to every person\n",
    "- Will have accuracy of 99% -> Great?\n",
    "\n",
    "An example could be that doctors use an algorithm to classify patients as healthy or not healthy, with respect to a rare disease. The algorithm is trained on a large sample, with potentially thousands of observations. However, if the sample only contains a small amount of 'interesting' cases, the algorithm will learn the healthy cases. When used in action, this will lead to devistating results, given that all sick patients are potentially classified as healthy. \n",
    "\n",
    "Ironically, predicting rare events is one of the most important and interesting tasks in classification. Luckily, there are some techniques for dealing with class imbalances. This notebook is centered around the question of how to deal with such imbalances, following a real data set. \n",
    "I will first discuss the issues that arise when not accounting for class imbalances. Then I'll present undersampling of the majority class as simple remedy. I will later extend this method to synthetic oversampling using the Synthetic Minority Oversampling Technique (SMOTE). In the last section I'll discuss further applications, benefits and shortfalls of the presented techniques and other options available.\n",
    "\n",
    "- My findings are\n",
    "\n",
    "0. The data\n",
    "\n",
    "1. Demonstrate the issue using the wine example\n",
    "    \n",
    "    - Logistic regression seemingly performs well when checking accuracy\n",
    "    - Horrible performance in total, only able to classify \"uninteresting classes\"\n",
    "    - Discussion of ROC, AUC and general assessment of classifiers\n",
    "    - Aiming for high AUC!\n",
    "    - -> Good general performance!\n",
    "    - Provost and Fawcett (1997): Convex hull\n",
    "\n",
    "2. Simple resampling: Undersampling of the majority class\n",
    "\n",
    "    - Discuss method\n",
    "    - Methodology, idea behind it -> Theory\n",
    "    - Show performance compared to base case\n",
    "\n",
    "3. Extension: SMOTE\n",
    "\n",
    "    - Theory, methodology\n",
    "    - Discuss\n",
    "    - Implement and show performance\n",
    "\n",
    "4. Discussion: Which method should be used?\n",
    "\n",
    "    - What about just moving the descision boundary? (Also mentioned in the SMOTE paper)\n",
    "    - Benefits/ Shortfalls\n",
    "    \n",
    "\n",
    "#### Notes\n",
    "\n",
    "- Issue of PREDICTION \n",
    "- Aim of this doc is to present sampling methods, not classifiers\n",
    "- No information rate (see book, page 255)\n",
    "- CV done false: Check your CV set up\n",
    "- When are you using sampling techniques? Before or after CV?\n",
    "- CV at all?\n",
    "- What about flipping the situation around, making the majority class the minority class? Would this make any sense?\n",
    "- Check, whether there is actually a clear linear descision boundary, which could be exploited, otherwise use aritifical data!"
   ]
  },
  {
   "cell_type": "code",
   "execution_count": 1,
   "metadata": {
    "hide_input": false
   },
   "outputs": [],
   "source": [
    "%matplotlib inline\n",
    "\n",
    "# Importing libraries\n",
    "import pandas as pd\n",
    "import numpy as np\n",
    "import seaborn as sns\n",
    "import matplotlib.pyplot as plt\n",
    "from sklearn.linear_model import LogisticRegression, LogisticRegressionCV\n",
    "from sklearn.model_selection import cross_val_score, train_test_split\n",
    "from sklearn import metrics"
   ]
  },
  {
   "cell_type": "markdown",
   "metadata": {},
   "source": [
    "#### The Wine-Quality Data Set\n",
    "To make this issue more tangible, I will use the wine-quality dataset presented by Cortez et. al (2009). The dataset contains information on red and white wines from the Minho region in Portugal. I will focus on predicting the quality of white wine in this example."
   ]
  },
  {
   "cell_type": "markdown",
   "metadata": {},
   "source": [
    "##### Data Loading "
   ]
  },
  {
   "cell_type": "code",
   "execution_count": 14,
   "metadata": {},
   "outputs": [],
   "source": [
    "# Filepath\n",
    "filepath = \"../data/\"\n",
    "\n",
    "# Loading data\n",
    "whitewine = pd.read_csv(filepath+ 'winequality-white.csv', sep= \";\")"
   ]
  },
  {
   "cell_type": "markdown",
   "metadata": {
    "variables": {
     "whitewine.shape[0]": "4898",
     "whitewine.shape[1]": "12"
    }
   },
   "source": [
    "The dataset includes {{whitewine.shape[0]}} observations, each with {{whitewine.shape[1]}} features, where one feature is the quality of the wine (see table below). The wines are assesed by three professional wine tasters who give each wine a grade from 0 (bad) to 10 (excellent). The final grade is calculated as the median of the three values (Cortez et al. 2009). While wine tasting has a bad reputation as being unscientific (Hodgson, 2008), I will assume that the scores actually represent a valid rating. At a minimum, the goal is to predict the taste of these three particular wine tasters."
   ]
  },
  {
   "cell_type": "code",
   "execution_count": 3,
   "metadata": {
    "hide_input": false
   },
   "outputs": [
    {
     "data": {
      "text/html": [
       "<div>\n",
       "<style scoped>\n",
       "    .dataframe tbody tr th:only-of-type {\n",
       "        vertical-align: middle;\n",
       "    }\n",
       "\n",
       "    .dataframe tbody tr th {\n",
       "        vertical-align: top;\n",
       "    }\n",
       "\n",
       "    .dataframe thead th {\n",
       "        text-align: right;\n",
       "    }\n",
       "</style>\n",
       "<table border=\"1\" class=\"dataframe\">\n",
       "  <thead>\n",
       "    <tr style=\"text-align: right;\">\n",
       "      <th></th>\n",
       "      <th>fixed acidity</th>\n",
       "      <th>volatile acidity</th>\n",
       "      <th>citric acid</th>\n",
       "      <th>residual sugar</th>\n",
       "      <th>chlorides</th>\n",
       "      <th>free sulfur dioxide</th>\n",
       "      <th>total sulfur dioxide</th>\n",
       "      <th>density</th>\n",
       "      <th>pH</th>\n",
       "      <th>sulphates</th>\n",
       "      <th>alcohol</th>\n",
       "      <th>quality</th>\n",
       "    </tr>\n",
       "  </thead>\n",
       "  <tbody>\n",
       "    <tr>\n",
       "      <th>3743</th>\n",
       "      <td>7.0</td>\n",
       "      <td>0.15</td>\n",
       "      <td>0.28</td>\n",
       "      <td>14.7</td>\n",
       "      <td>0.051</td>\n",
       "      <td>29.0</td>\n",
       "      <td>149.0</td>\n",
       "      <td>0.99792</td>\n",
       "      <td>2.96</td>\n",
       "      <td>0.39</td>\n",
       "      <td>9.0</td>\n",
       "      <td>7</td>\n",
       "    </tr>\n",
       "    <tr>\n",
       "      <th>2706</th>\n",
       "      <td>7.5</td>\n",
       "      <td>0.28</td>\n",
       "      <td>0.39</td>\n",
       "      <td>10.2</td>\n",
       "      <td>0.045</td>\n",
       "      <td>59.0</td>\n",
       "      <td>209.0</td>\n",
       "      <td>0.99720</td>\n",
       "      <td>3.16</td>\n",
       "      <td>0.63</td>\n",
       "      <td>9.6</td>\n",
       "      <td>6</td>\n",
       "    </tr>\n",
       "    <tr>\n",
       "      <th>4131</th>\n",
       "      <td>7.4</td>\n",
       "      <td>0.31</td>\n",
       "      <td>0.26</td>\n",
       "      <td>8.6</td>\n",
       "      <td>0.048</td>\n",
       "      <td>47.0</td>\n",
       "      <td>206.0</td>\n",
       "      <td>0.99640</td>\n",
       "      <td>3.26</td>\n",
       "      <td>0.36</td>\n",
       "      <td>9.1</td>\n",
       "      <td>5</td>\n",
       "    </tr>\n",
       "    <tr>\n",
       "      <th>838</th>\n",
       "      <td>7.3</td>\n",
       "      <td>0.25</td>\n",
       "      <td>0.36</td>\n",
       "      <td>2.1</td>\n",
       "      <td>0.034</td>\n",
       "      <td>30.0</td>\n",
       "      <td>177.0</td>\n",
       "      <td>0.99085</td>\n",
       "      <td>3.25</td>\n",
       "      <td>0.40</td>\n",
       "      <td>11.9</td>\n",
       "      <td>8</td>\n",
       "    </tr>\n",
       "    <tr>\n",
       "      <th>4329</th>\n",
       "      <td>6.4</td>\n",
       "      <td>0.23</td>\n",
       "      <td>0.26</td>\n",
       "      <td>8.1</td>\n",
       "      <td>0.054</td>\n",
       "      <td>47.0</td>\n",
       "      <td>181.0</td>\n",
       "      <td>0.99540</td>\n",
       "      <td>3.12</td>\n",
       "      <td>0.49</td>\n",
       "      <td>9.4</td>\n",
       "      <td>5</td>\n",
       "    </tr>\n",
       "  </tbody>\n",
       "</table>\n",
       "</div>"
      ],
      "text/plain": [
       "      fixed acidity  volatile acidity  citric acid  residual sugar  chlorides  \\\n",
       "3743            7.0              0.15         0.28            14.7      0.051   \n",
       "2706            7.5              0.28         0.39            10.2      0.045   \n",
       "4131            7.4              0.31         0.26             8.6      0.048   \n",
       "838             7.3              0.25         0.36             2.1      0.034   \n",
       "4329            6.4              0.23         0.26             8.1      0.054   \n",
       "\n",
       "      free sulfur dioxide  total sulfur dioxide  density    pH  sulphates  \\\n",
       "3743                 29.0                 149.0  0.99792  2.96       0.39   \n",
       "2706                 59.0                 209.0  0.99720  3.16       0.63   \n",
       "4131                 47.0                 206.0  0.99640  3.26       0.36   \n",
       "838                  30.0                 177.0  0.99085  3.25       0.40   \n",
       "4329                 47.0                 181.0  0.99540  3.12       0.49   \n",
       "\n",
       "      alcohol  quality  \n",
       "3743      9.0        7  \n",
       "2706      9.6        6  \n",
       "4131      9.1        5  \n",
       "838      11.9        8  \n",
       "4329      9.4        5  "
      ]
     },
     "execution_count": 3,
     "metadata": {},
     "output_type": "execute_result"
    }
   ],
   "source": [
    "whitewine.sample(5)"
   ]
  },
  {
   "cell_type": "code",
   "execution_count": 15,
   "metadata": {
    "hide_input": false
   },
   "outputs": [
    {
     "data": {
      "image/png": "[encoded data removed]",
      "text/plain": [
       "<Figure size 576x432 with 1 Axes>"
      ]
     },
     "metadata": {},
     "output_type": "display_data"
    }
   ],
   "source": [
    "plt.rcParams['figure.figsize'] = (8,6)\n",
    "quality_plt = sns.countplot(x= 'quality', data=whitewine)\n",
    "quality_plt.set_xlabel('Quality')\n",
    "quality_plt.set_ylabel('Nr of Wines')\n",
    "quality_plt.set_title('Distribution of Wine Quality');"
   ]
  },
  {
   "cell_type": "markdown",
   "metadata": {},
   "source": [
    "#### Binary Predictions\n",
    "My goal is to predict the quality of a wine using its chemical features. To simplify the estimation and emphasize the issue of class imbalances, I will transform the problem to a 'One vs. Rest' setup (Bishop ,2006, p. 183f). Wines with a quality equal or above 8 will be assigned to have high quality and wines below 8 are classified as low quality.\n",
    "\n",
    "As shown above, the quality of most wines lies between 5 and 7. Transforming the quality to binary values, one can see that high quality wines are severily underrepresented."
   ]
  },
  {
   "cell_type": "code",
   "execution_count": 17,
   "metadata": {},
   "outputs": [],
   "source": [
    "whitewine['quality_class'] = [1 if q >=  8 else 0 for q in whitewine.quality]\n",
    "\n",
    "# Calculating base rate\n",
    "base_rate = round(whitewine['quality_class'].value_counts()[1]/whitewine['quality_class'].value_counts()[0] ,4) "
   ]
  },
  {
   "cell_type": "markdown",
   "metadata": {
    "variables": {
     " (base_rate * 100)": "3.82",
     "round((1-base_rate) * 100,2)": "96.18",
     "whitewine['quality_class'].value_counts()[0]": "4718",
     "whitewine['quality_class'].value_counts()[1]": "180"
    }
   },
   "source": [
    "After the transformation, there are {{whitewine['quality_class'].value_counts()[0]}} observations of low quality wines and {{whitewine['quality_class'].value_counts()[1]}} obersvations of high quality wines. The base rate in this case is \n",
    "{{ (base_rate \\* 100)}} percent. It is important to notice, that one could achieve a prediction accuracy of {{round((1-base_rate) * 100,2)}} percent by guessing that all wines presented belong to the low quality class.\n",
    "\n",
    "For my subsequent analysis I will use logistic regression to predict wine quality, while applying different sampling methods. However, in reality, dealing with class imbalances is not just about using different sampling techniques. Rather, as discussed by Weiss (2013), one should first focus on the underlying data-issues at hand. Weiss (2013) mentions problem-definition-level issues, data-level issues and algorithm-level issues. In this set-up, it would be sensible to gather more data on wine-quality in general, or explore different algorithms. \n",
    "\n",
    "- Logistic regression and imbalanced data, maybe short discussion here\n",
    "\n",
    "#### Estimation Set-Up\n",
    "\n",
    "- Ask Omiros, but I would generally follow the procedure described here\n",
    "\n",
    "- Make a training and testing data set, stratified\n",
    "- All methods will be applied on the same training data set (under-, oversampling, smote)\n",
    "- Then for each model fitted on the resulting training set, estimate on the testing data set??\n",
    "\n",
    "\n",
    "- Discuss evaluation metrics in the first naive implementation.\n"
   ]
  },
  {
   "cell_type": "code",
   "execution_count": 27,
   "metadata": {},
   "outputs": [
    {
     "data": {
      "text/plain": [
       "0.036734693877551024"
      ]
     },
     "execution_count": 27,
     "metadata": {},
     "output_type": "execute_result"
    }
   ],
   "source": [
    "## Making testing and training data sets ##\n",
    "\n",
    "# Extract features and dependent variable\n",
    "y = whitewine['quality_class']\n",
    "x = whitewine[list(whitewine)[:-2]]\n",
    "\n",
    "# Split into testing and training data, stratified!\n",
    "x_train, x_test, y_train, y_test = train_test_split(x,y, test_size=0.20, random_state =0 , stratify = y)\n",
    "\n",
    "# Baseline was 3 percent, verify that stratified sampling worked\n",
    "sum(y_test == 1) / len(y_test)"
   ]
  },
  {
   "cell_type": "markdown",
   "metadata": {},
   "source": [
    "#### Baseline Logistic Regression\n",
    "\n",
    "- I will no start with the baseline logistic regression model without any application of sampling methods\n",
    " Maybe drop discussion of logistic regression?\n",
    "\n",
    "The idea behind logistic regression can be motivated from an example. A winery has collected the grapes of the season and the winegrower has given her best to produce an excellent wine. Now the accountant of the winery comes into play and asks how he should price the wine, given it's quality. Preferrably, he would like to have an idea of how sure he can be that a wine is of particularly high quality, so that he doesn't end up with a mountain of overpriced, low quality wine. Logistic regression can be used in this case to obtain the probability of a wine belonging to the high quality group.\n",
    "\n",
    "Using logistic regression, the probability can be modeled as a logistic transformation of a linear combination of the features of the wine. Given the features $\\phi(x)$, the logg-odds $l$ can be modeled as $l  = ln(\\frac{p}{1-p}) = \\phi(X^T) \\beta$  where $\\beta$ is a vector of parameters to estimate. Then, a logistic transformation can be used to achieve $y \\in (0,1)$ \n",
    "\n",
    "$$\\mu(x,\\beta) = \\frac{1}{1+e^{-\\phi(x^T)\\beta}}$$\n",
    "\n",
    "The conditional mean $\\mu$ depends on the features $X$ and $\\beta$ and $y \\sim Bernoulli( \\mu(x,\\beta) ) $. \n",
    "\n",
    "In the following section I will model the quality of wine through logistic regression. While variable selection and feature engineering play a crucial role in predictive modelling, I will just use all available features for this task. I will try to identify the best predictive model using 10 fold cross validation. \n",
    "\n",
    "- I will make use of pythons sklearn library.\n",
    "- See what works best here"
   ]
  },
  {
   "cell_type": "code",
   "execution_count": null,
   "metadata": {},
   "outputs": [],
   "source": []
  },
  {
   "cell_type": "code",
   "execution_count": 13,
   "metadata": {},
   "outputs": [
    {
     "name": "stderr",
     "output_type": "stream",
     "text": [
      "/home/adam/anaconda3/lib/python3.6/site-packages/sklearn/linear_model/logistic.py:757: ConvergenceWarning: lbfgs failed to converge. Increase the number of iterations.\n",
      "  \"of iterations.\", ConvergenceWarning)\n",
      "/home/adam/anaconda3/lib/python3.6/site-packages/sklearn/linear_model/logistic.py:757: ConvergenceWarning: lbfgs failed to converge. Increase the number of iterations.\n",
      "  \"of iterations.\", ConvergenceWarning)\n",
      "/home/adam/anaconda3/lib/python3.6/site-packages/sklearn/linear_model/logistic.py:757: ConvergenceWarning: lbfgs failed to converge. Increase the number of iterations.\n",
      "  \"of iterations.\", ConvergenceWarning)\n",
      "/home/adam/anaconda3/lib/python3.6/site-packages/sklearn/linear_model/logistic.py:757: ConvergenceWarning: lbfgs failed to converge. Increase the number of iterations.\n",
      "  \"of iterations.\", ConvergenceWarning)\n",
      "/home/adam/anaconda3/lib/python3.6/site-packages/sklearn/linear_model/logistic.py:757: ConvergenceWarning: lbfgs failed to converge. Increase the number of iterations.\n",
      "  \"of iterations.\", ConvergenceWarning)\n",
      "/home/adam/anaconda3/lib/python3.6/site-packages/sklearn/linear_model/logistic.py:757: ConvergenceWarning: lbfgs failed to converge. Increase the number of iterations.\n",
      "  \"of iterations.\", ConvergenceWarning)\n",
      "/home/adam/anaconda3/lib/python3.6/site-packages/sklearn/linear_model/logistic.py:757: ConvergenceWarning: lbfgs failed to converge. Increase the number of iterations.\n",
      "  \"of iterations.\", ConvergenceWarning)\n",
      "/home/adam/anaconda3/lib/python3.6/site-packages/sklearn/linear_model/logistic.py:757: ConvergenceWarning: lbfgs failed to converge. Increase the number of iterations.\n",
      "  \"of iterations.\", ConvergenceWarning)\n",
      "/home/adam/anaconda3/lib/python3.6/site-packages/sklearn/linear_model/logistic.py:757: ConvergenceWarning: lbfgs failed to converge. Increase the number of iterations.\n",
      "  \"of iterations.\", ConvergenceWarning)\n",
      "/home/adam/anaconda3/lib/python3.6/site-packages/sklearn/linear_model/logistic.py:757: ConvergenceWarning: lbfgs failed to converge. Increase the number of iterations.\n",
      "  \"of iterations.\", ConvergenceWarning)\n",
      "/home/adam/anaconda3/lib/python3.6/site-packages/sklearn/linear_model/logistic.py:757: ConvergenceWarning: lbfgs failed to converge. Increase the number of iterations.\n",
      "  \"of iterations.\", ConvergenceWarning)\n"
     ]
    }
   ],
   "source": [
    "# Instantiate the model, very small penalty, intercept, 10-Fold Cv, no class weights (default)\n",
    "logistic_model = LogisticRegressionCV(Cs =[1e4], class_weight=None, cv = 10)\n",
    "\n",
    "# Extract features and dependent variable\n",
    "y = whitewine['quality_class']\n",
    "x = whitewine[list(whitewine)[:-2]]\n",
    "\n",
    "\n",
    "# Fit the model \n",
    "logistic_model.fit(x_train,y_train);"
   ]
  },
  {
   "cell_type": "code",
   "execution_count": null,
   "metadata": {},
   "outputs": [],
   "source": [
    "# Make predictions on testing values\n",
    "y_pred = logistic_model.predict(x_test)\n",
    "\n",
    "# Accuracy\n",
    "accuracy = metrics.accuracy_score(y_test,y_pred)\n",
    "\n",
    "accuracy"
   ]
  },
  {
   "cell_type": "markdown",
   "metadata": {},
   "source": [
    "- Discuss what accuracy is\n",
    "\n",
    "The accuracy score of {{round( accuracy \\* 100,2)}} percent looks great at first. After all, roughly 96 percent of the wines have been classified correctly. A look at the confusion matrix however, reveals the issue with relying on the accuracy score.\n",
    "\n",
    "#### AUC \n",
    "\n",
    "- AUC is an accepted traditional performance metric for a ROC Curve (SMOTE Paper),Duda, Hart, & Stork, 2001; Bradley, 1997; Lee, 2000)\n",
    "- ROC Convex Hull?"
   ]
  },
  {
   "cell_type": "code",
   "execution_count": null,
   "metadata": {},
   "outputs": [],
   "source": [
    "plt.rcParams['figure.figsize'] = (8,6)\n",
    "\n",
    "# Get confusion matrix\n",
    "cnf_matrix = metrics.confusion_matrix(y_test,y_pred)\n",
    "\n",
    "# Plot as heatmap\n",
    "class_names=[0,1] # name  of classes\n",
    "fig, ax = plt.subplots() \n",
    "tick_marks = np.arange(len(class_names)) \n",
    "plt.xticks(tick_marks, class_names)\n",
    "plt.yticks(tick_marks, class_names)\n",
    "sns.heatmap(pd.DataFrame(cnf_matrix), cmap=\"YlGnBu\", annot=True,fmt='g')\n",
    "ax.xaxis.set_label_position(\"top\")\n",
    "plt.tight_layout()\n",
    "plt.title('Confusion matrix', y=1.1)\n",
    "plt.ylabel('Actual label')\n",
    "plt.xlabel('Predicted label');"
   ]
  },
  {
   "cell_type": "markdown",
   "metadata": {},
   "source": [
    "The confusion matrix reveals, that the classifier predicted only a single wine to be of high quality, and that was a wrong prediction. Within the testing set, there were 39 high quality wines, which were all predicted to be of low quality. \n",
    "- More infos here, precision and recall\n",
    "\n"
   ]
  },
  {
   "cell_type": "code",
   "execution_count": null,
   "metadata": {},
   "outputs": [],
   "source": [
    "print(\"Accuracy:\",metrics.accuracy_score(y_test, y_pred))\n",
    "print(\"Precision:\",metrics.precision_score(y_test, y_pred))\n",
    "print(\"Recall:\",metrics.recall_score(y_test, y_pred))\n"
   ]
  },
  {
   "cell_type": "markdown",
   "metadata": {},
   "source": [
    "ROC / AUC"
   ]
  },
  {
   "cell_type": "code",
   "execution_count": null,
   "metadata": {},
   "outputs": [],
   "source": [
    "y_pred_proba = logistic_model.predict_proba(x_test)[::,1]\n",
    "fpr, tpr, _ = metrics.roc_curve(y_test,  y_pred_proba)\n",
    "auc = metrics.roc_auc_score(y_test, y_pred_proba)\n",
    "fig, ax = plt.subplots() \n",
    "ax.plot(ax.get_xlim(), ax.get_ylim(), ls=\"--\", c=\".3\")\n",
    "plt.plot(fpr,tpr,label=\"data 1, auc=\"+str(auc))\n",
    "plt.legend(loc=4)\n",
    "plt.show()"
   ]
  },
  {
   "cell_type": "markdown",
   "metadata": {},
   "source": [
    "#### Simple Over / Undersampling using balancing"
   ]
  },
  {
   "cell_type": "code",
   "execution_count": null,
   "metadata": {},
   "outputs": [],
   "source": [
    "# Instantiate the model, very small penalty, intercept, 10-Fold Cv, no class weights (default)\n",
    "logistic_model2 = LogisticRegression(class_weight='balanced')\n",
    "#LogisticRegressionCV(Cs =[1e4], class_weight='balanced', cv = 10)\n",
    "\n",
    "# Split into testing and training data, stratified!\n",
    "x_train, x_test, y_train, y_test = train_test_split(x,y, test_size=0.25, random_state =0 )#, stratify = y)\n",
    "\n",
    "# Fit the model \n",
    "logistic_model2.fit(x_train,y_train);\n",
    "\n",
    "# Make predictions on testing values\n",
    "y_pred = logistic_model2.predict(x_test)\n",
    "\n",
    "# Accuracy\n",
    "accuracy = metrics.accuracy_score(y_test,y_pred)\n",
    "\n",
    "metrics.confusion_matrix(y_test,y_pred)\n"
   ]
  },
  {
   "cell_type": "code",
   "execution_count": null,
   "metadata": {},
   "outputs": [],
   "source": [
    "accuracy"
   ]
  },
  {
   "cell_type": "code",
   "execution_count": null,
   "metadata": {},
   "outputs": [],
   "source": [
    "y_pred_proba = logistic_model2.predict_proba(x_test)[::,1]\n",
    "fpr, tpr, _ = metrics.roc_curve(y_test,  y_pred_proba)\n",
    "auc = metrics.roc_auc_score(y_test, y_pred_proba)\n",
    "fig, ax = plt.subplots() \n",
    "ax.plot(ax.get_xlim(), ax.get_ylim(), ls=\"--\", c=\".3\")\n",
    "plt.plot(fpr,tpr,label=\"data 1, auc=\"+str(auc))\n",
    "plt.legend(loc=4)\n",
    "plt.show()"
   ]
  },
  {
   "cell_type": "markdown",
   "metadata": {},
   "source": [
    "#### Random Oversampling"
   ]
  },
  {
   "cell_type": "code",
   "execution_count": null,
   "metadata": {},
   "outputs": [],
   "source": [
    "from imblearn import over_sampling \n",
    "ros = over_sampling.RandomOverSampler(random_state=0)\n",
    "X_resampled, y_resampled = ros.fit_resample(x, y)\n",
    "\n",
    "# Fit on oversampled data set\n",
    "logistic_model.fit(X_resampled,y_resampled)\n",
    "\n",
    "\n",
    "# Make predictions on testing values\n",
    "y_pred = logistic_model.predict(x_test)\n",
    "\n",
    "# Accuracy\n",
    "accuracy = metrics.accuracy_score(y_test,y_pred)\n",
    "\n",
    "metrics.confusion_matrix(y_test,y_pred)\n",
    "\n",
    "#accuracy \n",
    "# Same as setting weights in the fit method\n"
   ]
  },
  {
   "cell_type": "code",
   "execution_count": null,
   "metadata": {},
   "outputs": [],
   "source": []
  },
  {
   "cell_type": "code",
   "execution_count": null,
   "metadata": {},
   "outputs": [],
   "source": [
    "y_pred_proba = logistic_model2.predict_proba(x_test)[::,1]\n",
    "fpr, tpr, _ = metrics.roc_curve(y_test,  y_pred_proba)\n",
    "auc = metrics.roc_auc_score(y_test, y_pred_proba)\n",
    "fig, ax = plt.subplots() \n",
    "ax.plot(ax.get_xlim(), ax.get_ylim(), ls=\"--\", c=\".3\")\n",
    "plt.plot(fpr,tpr,label=\"data 1, auc=\"+str(auc))\n",
    "plt.legend(loc=4)\n",
    "plt.show()"
   ]
  },
  {
   "cell_type": "markdown",
   "metadata": {},
   "source": [
    "#### SMOTE Chawla et al (2002)\n",
    "\n",
    "##### Abstract\n",
    "- Approach for dealing with imbalanced datasets\n",
    "- Imbalance: Not equal representation of classification categories\n",
    "- Happens often in the real world\n",
    "- Cost of misclassifying an \"interesting\" example are a lot higer than misclassifying \"normal\" examples\n",
    "- Paper shows a combination of over-sampling the minority class and under-sampling the majority class\n",
    "- This can achive better performance in ROC space than only under-sampling the majority class\n",
    "- Method involves creating synthetic minority class examples\n",
    "\n",
    "##### Introduction\n",
    "\n",
    "- Imbalance of order 100 to 1 can be found in fraud detection \n",
    "- others report imbalances of up to 100.000 to 1 (Provost & Fawcett, 2001)\n",
    "- Performance is often evaluated using predictive accuracy \n",
    "- Not appropriate when data is imbalanced and/or costs of different errors vary \n",
    "- Example: Cancer prediction / mammography \n",
    "- In the case of severe imbalance, a simple strategy of always predicting the majority class would give an almost perfect predicitve accuracy\n",
    "- Simple predictive accuracy is not appropriate in such situations!\n",
    "- AUC is an accepted tradional performance metric \n",
    "-  ROC Convex Hull -> Very interesting, check it out!\n",
    "\n",
    "How has the machine learning community addressed the issue of class imbalance?\n",
    "- Assign distinct costs to training examples\n",
    "- Re-sample the original dataset\n",
    "        - Either over sample the minority class\n",
    "        - And / Or under-sample the majority class\n",
    "    \n",
    "Approach presented in the paper uses under-sampling of the majority class with a special form of over-sampling of the minority class\n",
    "\n",
    "##### Performance Measures\n",
    "- Performance is typically evaluated by a confusion matrix\n",
    "- In the context of balanced datasets and equal error costs, it is reasonable to use error the error rate as a performance metric\n",
    "$$ error = 1- Accuracy$$\n",
    "\n",
    "- In presence of imbalanced datasets with unequal error costs, more appropriate to use the ROC curve\n",
    "- ROC curves can be thought of as representing the family of best decision boundaries for relative costs of TP and FP\n",
    "- X axis: % False positives\n",
    "- Y axis: % True positives\n",
    "- Ideal point on the ROC curve would be (0,100), all positive examples are classified correctly and no negative examples are misclassified as positive\n",
    "- One way a ROC curve can be swept out is by manipulating the balance of training samples for each class in a training set\n",
    "\n",
    "##### Previous Work: Imbalanced datasets \n",
    "- Kubat and Matwin (1997) selectively under-sample the majority class while keeping the original population of the minority class\n",
    "- Minority examples were divided into four categories: Some noise overlapping the positive class descision regon, borderline samples, redundant samples and safe samples\n",
    "- Ling and Li (1998): Combine over-sampling the minority class with under-sampling the majority class\n",
    "- used lift analysis instead of accuracy\n",
    "- lift curve is more similar to an ROC curve, but more tailored to marketing\n",
    "- Solberg and Solberg (1996): Oil-slick classification, balance 50-50, achieved 14% error rate on the interesting samples and 4 % error on the \"negative\" samples\n",
    "- Precision and recall\n",
    "\n",
    "*Literature summary: Under-sampling the majority class enables better classifiers to be built than over-sampling the minority class!*\n",
    "-> Very interesting summary, check?\n",
    "- Combination of the two as done in previous work does not lead to classifiers that outperform those built with undersampling of majority\n",
    "- Oversampling of the minority class has been donw by sampling with replacement from the original data, this might be an issue -> SMOTE\n",
    "\n",
    "#### SMOTE\n",
    "\n",
    "- Previous research discussed over-sampling with replacment and showed that it doesn't significantly improve minority class recognition\n",
    "- Authors argue with underlying effect in terms of descision region feature space\n",
    "- As the minority class is over-sampled by increasing amounts, the effect is to identify similar but more specific regions in the feature space as the descision region for the minority class\n",
    "\n",
    "Understanding over- and undersampling in terms of descision regions\n",
    "-> Descision boundary for linear regression?\n",
    "\n",
    "- Propose an over-sampling approach in which the minority class is over-sampled by creating synthetic examples, rather than oversampling with replacement\n",
    "- Inspired by handwriting recognition: Used real pictures and perturbed the data a bit to generate new samples\n",
    "- Generate synthetic examples by operating in \"feature space\" not \"data space\"\n",
    "- Taking each minority class sample, introducing synthetic examples along the line segments, joining any / all of the k-miniority class nearest neighbors\n",
    "- Samples are generated by taking the difference between the feature vector (sample) under consideration and it's nearest neighbor.\n",
    "- Multiply this difference by a random number between 0 and 1, add it to the feature vector under consideration\n",
    "- Causes the selection of a random point along the line segment between two specific features\n",
    "- Forces the decision region of the minority class to become more general\n",
    "- The amount of over-sampling is a parameter of the system, series of ROC curves can be generated for different populations and ROC analysis performed\n",
    "\n",
    "- Synthetic samples cause the classifier to create larger and less specific decision regions, rather than smaller and more specific regions\n",
    "- Better for decision trees?\n",
    "\n",
    "##### Under-sampling and SMOTE Combination\n",
    "- Majority class under-sampled, by randomly removing samples until the minority class becomes some specififed percentage of the majority class\n",
    "- Forces the learner to experience varying degrees of under-sampling\n",
    "- By applying a combination of under-sampling and over-sampling, the inital bias of the learner is reversed in favor of the minority class\n",
    "- This is a crucial but somewhat overlooked part of the paper! \n",
    "- The best performance is reached when combining SMOTE and under-sampling of the majority class\n",
    "\n",
    "> Combination of SMOTE and under-sampling is the way to go according to the authors"
   ]
  },
  {
   "cell_type": "code",
   "execution_count": null,
   "metadata": {},
   "outputs": [],
   "source": [
    "from imblearn.over_sampling import SMOTE"
   ]
  },
  {
   "cell_type": "code",
   "execution_count": null,
   "metadata": {},
   "outputs": [],
   "source": [
    "x_resampled, y_resampled = SMOTE().fit_resample(x, y)\n",
    "# Fit on oversampled data set\n",
    "logistic_model.fit(x_resampled,y_resampled)\n",
    "\n",
    "\n",
    "# Make predictions on testing values\n",
    "y_pred = logistic_model.predict(x_test)\n",
    "\n",
    "# Accuracy\n",
    "accuracy = metrics.accuracy_score(y_test,y_pred)\n",
    "\n",
    "metrics.confusion_matrix(y_test,y_pred)\n"
   ]
  },
  {
   "cell_type": "code",
   "execution_count": null,
   "metadata": {},
   "outputs": [],
   "source": [
    "y_pred_proba = logistic_model.predict_proba(x_test)[::,1]\n",
    "fpr, tpr, _ = metrics.roc_curve(y_test,  y_pred_proba)\n",
    "auc = metrics.roc_auc_score(y_test, y_pred_proba)\n",
    "fig, ax = plt.subplots() \n",
    "ax.plot(ax.get_xlim(), ax.get_ylim(), ls=\"--\", c=\".3\")\n",
    "plt.plot(fpr,tpr,label=\"data 1, auc=\"+str(auc))\n",
    "plt.legend(loc=4)\n",
    "plt.show()"
   ]
  },
  {
   "cell_type": "markdown",
   "metadata": {},
   "source": [
    "#### XGBoost Baseline - Doesn't help much in this case!\n",
    "- Shows that this is not only an issue for logistic regression\n",
    "- other methods are equally prone"
   ]
  },
  {
   "cell_type": "code",
   "execution_count": null,
   "metadata": {},
   "outputs": [],
   "source": [
    "from xgboost import XGBClassifier"
   ]
  },
  {
   "cell_type": "code",
   "execution_count": null,
   "metadata": {},
   "outputs": [],
   "source": [
    "# fit model on training data\n",
    "modelx = XGBClassifier()\n",
    "\n",
    "# Evaluation set\n",
    "eval_set = [(x_test, y_test)]\n",
    "\n",
    "# Fit the model\n",
    "modelx.fit(x_train, y_train, early_stopping_rounds=10, eval_metric=\"logloss\", eval_set=eval_set, verbose=False)\n",
    "\n",
    "# make predictions for test data\n",
    "#y_pred = model.predict(X_test)\n",
    "#predictions = [round(value) for value in y_pred]\n",
    "# evaluate predictions\n",
    "metrics.accuracy_score(y_test, predictions)\n"
   ]
  },
  {
   "cell_type": "code",
   "execution_count": null,
   "metadata": {},
   "outputs": [],
   "source": [
    "# make predictions for test data\n",
    "#y_pred = modelx.predict(x_test)\n",
    "y_pred = modelx.predict(x_test)"
   ]
  },
  {
   "cell_type": "code",
   "execution_count": null,
   "metadata": {},
   "outputs": [],
   "source": [
    "metrics.confusion_matrix(y_test,y_pred)"
   ]
  },
  {
   "cell_type": "markdown",
   "metadata": {},
   "source": [
    "#### References \n",
    "\n",
    "P. Cortez, A. Cerdeira, F. Almeida, T. Matos and J. Reis.\n",
    "  Modeling wine preferences by data mining from physicochemical properties.\n",
    "  In Decision Support Systems, Elsevier, 47(4):547-553. ISSN: 0167-9236.\n",
    "  \n",
    "He, H., & Ma, Y. (Eds.). (2013). Imbalanced learning: foundations, algorithms, and applications. John Wiley & Sons.\n",
    "\n",
    "G. Weiss (2013). Foundations of Imbalanced Learning, in Imbalanced learning: foundations, algorithms, and applications. edited by He, H., & Ma, Y.\n",
    " "
   ]
  },
  {
   "cell_type": "code",
   "execution_count": null,
   "metadata": {},
   "outputs": [],
   "source": []
  }
 ],
 "metadata": {
  "kernelspec": {
   "display_name": "Python 3",
   "language": "python",
   "name": "python3"
  },
  "language_info": {
   "codemirror_mode": {
    "name": "ipython",
    "version": 3
   },
   "file_extension": ".py",
   "mimetype": "text/x-python",
   "name": "python",
   "nbconvert_exporter": "python",
   "pygments_lexer": "ipython3",
   "version": "3.6.5"
  },
  "toc": {
   "base_numbering": 1,
   "nav_menu": {},
   "number_sections": true,
   "sideBar": true,
   "skip_h1_title": false,
   "title_cell": "Table of Contents",
   "title_sidebar": "Contents",
   "toc_cell": false,
   "toc_position": {},
   "toc_section_display": true,
   "toc_window_display": false
  },
  "varInspector": {
   "cols": {
    "lenName": 16,
    "lenType": 16,
    "lenVar": 40
   },
   "kernels_config": {
    "python": {
     "delete_cmd_postfix": "",
     "delete_cmd_prefix": "del ",
     "library": "var_list.py",
     "varRefreshCmd": "print(var_dic_list())"
    },
    "r": {
     "delete_cmd_postfix": ") ",
     "delete_cmd_prefix": "rm(",
     "library": "var_list.r",
     "varRefreshCmd": "cat(var_dic_list()) "
    }
   },
   "types_to_exclude": [
    "module",
    "function",
    "builtin_function_or_method",
    "instance",
    "_Feature"
   ],
   "window_display": false
  }
 },
 "nbformat": 4,
 "nbformat_minor": 2
}
